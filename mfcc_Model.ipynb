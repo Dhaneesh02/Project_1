{
  "cells": [
    {
      "cell_type": "markdown",
      "metadata": {
        "id": "view-in-github",
        "colab_type": "text"
      },
      "source": [
        "<a href=\"https://colab.research.google.com/github/Dhaneesh02/Project_1/blob/visual/mfcc_Model.ipynb\" target=\"_parent\"><img src=\"https://colab.research.google.com/assets/colab-badge.svg\" alt=\"Open In Colab\"/></a>"
      ]
    },
    {
      "cell_type": "code",
      "execution_count": null,
      "metadata": {
        "id": "IXlv2zfHqT7k"
      },
      "outputs": [],
      "source": [
        "from keras.utils.vis_utils import plot_model"
      ]
    },
    {
      "cell_type": "code",
      "execution_count": 1,
      "metadata": {
        "id": "i8FR_AIhs4qd"
      },
      "outputs": [],
      "source": [
        "import os\n",
        "from glob import glob\n",
        "import pickle\n",
        "import numpy as np\n",
        "import pandas as pd\n",
        "\n",
        "### Plot imports ###\n",
        "from IPython.display import Image\n",
        "import matplotlib.pyplot as plt\n",
        "\n",
        "### Time Distributed ConvNet imports ###\n",
        "import tensorflow as tf\n",
        "from tensorflow.keras.models import Sequential, Model\n",
        "from tensorflow.keras.layers import Input, Dense, Dropout, Activation, TimeDistributed, concatenate\n",
        "from tensorflow.keras.layers import Conv2D, MaxPooling2D, AveragePooling2D, BatchNormalization, LeakyReLU, Flatten\n",
        "from tensorflow.keras.layers import LSTM\n",
        "from tensorflow.keras.optimizers import Adam, SGD\n",
        "from tensorflow.keras.callbacks import EarlyStopping, ModelCheckpoint, ReduceLROnPlateau\n",
        "from tensorflow.keras import backend as K\n",
        "from keras.utils import np_utils\n",
        "from keras.utils.vis_utils import plot_model\n",
        "from sklearn.preprocessing import LabelEncoder\n",
        "\n",
        "### Warning ###\n",
        "import warnings\n",
        "warnings.filterwarnings('ignore')"
      ]
    },
    {
      "cell_type": "code",
      "execution_count": 2,
      "metadata": {
        "id": "lkZXrJJFs6Co",
        "colab": {
          "base_uri": "https://localhost:8080/"
        },
        "outputId": "e357bf9d-ce31-407f-d970-e17722d7a840"
      },
      "outputs": [
        {
          "output_type": "stream",
          "name": "stdout",
          "text": [
            "Mounted at /content/drive\n"
          ]
        }
      ],
      "source": [
        "from google.colab import drive\n",
        "drive.mount('/content/drive')"
      ]
    },
    {
      "cell_type": "code",
      "execution_count": 3,
      "metadata": {
        "id": "hqD7qk4ms6hQ"
      },
      "outputs": [],
      "source": [
        "X_train = pickle.load(open('drive/My Drive/FYP/Pickle/[RAVDESS][MEL_SPECT][X_train].p', 'rb'))\n",
        "y_train = pickle.load(open('drive/My Drive/FYP/Pickle/[RAVDESS][MEL_SPECT][y_train].p', 'rb'))\n",
        "y_test = pickle.load(open('drive/My Drive/FYP/Pickle/[RAVDESS][MEL_SPECT][y_test].p', 'rb'))\n",
        "X_test = pickle.load(open('drive/My Drive/FYP/Pickle/[RAVDESS][MEL_SPECT][X_test].p', 'rb'))"
      ]
    },
    {
      "cell_type": "code",
      "execution_count": 3,
      "metadata": {
        "id": "q_3QiW-aDVPX"
      },
      "outputs": [],
      "source": [
        ""
      ]
    },
    {
      "cell_type": "code",
      "execution_count": 4,
      "metadata": {
        "id": "iTY3-pprDFEV",
        "colab": {
          "base_uri": "https://localhost:8080/"
        },
        "outputId": "acf13d6e-1ce2-4b61-dbf8-57c837a7dead"
      },
      "outputs": [
        {
          "output_type": "stream",
          "name": "stdout",
          "text": [
            "(3225, 5, 128, 128)\n",
            "(3225,)\n",
            "(807, 5, 128, 128)\n",
            "(807,)\n"
          ]
        }
      ],
      "source": [
        "print(X_train.shape)\n",
        "print(y_train.shape)\n",
        "print(X_test.shape)\n",
        "print(y_test.shape)"
      ]
    },
    {
      "cell_type": "code",
      "execution_count": 5,
      "metadata": {
        "id": "HGGImqnzuD1T"
      },
      "outputs": [],
      "source": [
        "lb = LabelEncoder()\n",
        "y_train = np_utils.to_categorical(lb.fit_transform(np.ravel(y_train)))\n",
        "y_test = np_utils.to_categorical(lb.transform(np.ravel(y_test)))"
      ]
    },
    {
      "cell_type": "code",
      "execution_count": 6,
      "metadata": {
        "id": "nJPij1oruVBM"
      },
      "outputs": [],
      "source": [
        "# Reshape for convolution\n",
        "X_train = X_train.reshape(X_train.shape[0], X_train.shape[1] , X_train.shape[2], X_train.shape[3], 1)\n",
        "X_test = X_test.reshape(X_test.shape[0], X_test.shape[1] , X_test.shape[2], X_test.shape[3], 1)"
      ]
    },
    {
      "cell_type": "code",
      "execution_count": 7,
      "metadata": {
        "id": "0fyvNke_Pj2h",
        "colab": {
          "base_uri": "https://localhost:8080/"
        },
        "outputId": "35267d3a-2b1a-40f2-ec5f-a075019173e7"
      },
      "outputs": [
        {
          "output_type": "execute_result",
          "data": {
            "text/plain": [
              "(5, 128, 128, 1)"
            ]
          },
          "metadata": {},
          "execution_count": 7
        }
      ],
      "source": [
        "X_train.shape[1:]"
      ]
    },
    {
      "cell_type": "code",
      "execution_count": 8,
      "metadata": {
        "id": "Sm5fGHFCuX_Y",
        "colab": {
          "base_uri": "https://localhost:8080/"
        },
        "outputId": "6cd0ff3d-54c5-4243-daea-6d1b150032b2"
      },
      "outputs": [
        {
          "output_type": "stream",
          "name": "stdout",
          "text": [
            "Model: \"model\"\n",
            "_________________________________________________________________\n",
            " Layer (type)                Output Shape              Param #   \n",
            "=================================================================\n",
            " Input_MELSPECT (InputLayer)  [(None, 5, 128, 128, 1)]  0        \n",
            "                                                                 \n",
            " Conv_1_MELSPECT (TimeDistri  (None, 5, 128, 128, 64)  640       \n",
            " buted)                                                          \n",
            "                                                                 \n",
            " BatchNorm_1_MELSPECT (TimeD  (None, 5, 128, 128, 64)  256       \n",
            " istributed)                                                     \n",
            "                                                                 \n",
            " Activ_1_MELSPECT (TimeDistr  (None, 5, 128, 128, 64)  0         \n",
            " ibuted)                                                         \n",
            "                                                                 \n",
            " MaxPool_1_MELSPECT (TimeDis  (None, 5, 64, 64, 64)    0         \n",
            " tributed)                                                       \n",
            "                                                                 \n",
            " Drop_1_MELSPECT (TimeDistri  (None, 5, 64, 64, 64)    0         \n",
            " buted)                                                          \n",
            "                                                                 \n",
            " Conv_2_MELSPECT (TimeDistri  (None, 5, 64, 64, 64)    36928     \n",
            " buted)                                                          \n",
            "                                                                 \n",
            " BatchNorm_2_MELSPECT (TimeD  (None, 5, 64, 64, 64)    256       \n",
            " istributed)                                                     \n",
            "                                                                 \n",
            " Activ_2_MELSPECT (TimeDistr  (None, 5, 64, 64, 64)    0         \n",
            " ibuted)                                                         \n",
            "                                                                 \n",
            " MaxPool_2_MELSPECT (TimeDis  (None, 5, 16, 16, 64)    0         \n",
            " tributed)                                                       \n",
            "                                                                 \n",
            " Drop_2_MELSPECT (TimeDistri  (None, 5, 16, 16, 64)    0         \n",
            " buted)                                                          \n",
            "                                                                 \n",
            " Conv_3_MELSPECT (TimeDistri  (None, 5, 16, 16, 128)   73856     \n",
            " buted)                                                          \n",
            "                                                                 \n",
            " BatchNorm_3_MELSPECT (TimeD  (None, 5, 16, 16, 128)   512       \n",
            " istributed)                                                     \n",
            "                                                                 \n",
            " Activ_3_MELSPECT (TimeDistr  (None, 5, 16, 16, 128)   0         \n",
            " ibuted)                                                         \n",
            "                                                                 \n",
            " MaxPool_3_MELSPECT (TimeDis  (None, 5, 4, 4, 128)     0         \n",
            " tributed)                                                       \n",
            "                                                                 \n",
            " Drop_3_MELSPECT (TimeDistri  (None, 5, 4, 4, 128)     0         \n",
            " buted)                                                          \n",
            "                                                                 \n",
            " Conv_4_MELSPECT (TimeDistri  (None, 5, 4, 4, 128)     147584    \n",
            " buted)                                                          \n",
            "                                                                 \n",
            " BatchNorm_4_MELSPECT (TimeD  (None, 5, 4, 4, 128)     512       \n",
            " istributed)                                                     \n",
            "                                                                 \n",
            " Activ_4_MELSPECT (TimeDistr  (None, 5, 4, 4, 128)     0         \n",
            " ibuted)                                                         \n",
            "                                                                 \n",
            " MaxPool_4_MELSPECT (TimeDis  (None, 5, 1, 1, 128)     0         \n",
            " tributed)                                                       \n",
            "                                                                 \n",
            " Drop_4_MELSPECT (TimeDistri  (None, 5, 1, 1, 128)     0         \n",
            " buted)                                                          \n",
            "                                                                 \n",
            " Flat_MELSPECT (TimeDistribu  (None, 5, 128)           0         \n",
            " ted)                                                            \n",
            "                                                                 \n",
            " LSTM_1 (LSTM)               (None, 256)               394240    \n",
            "                                                                 \n",
            " FC (Dense)                  (None, 7)                 1799      \n",
            "                                                                 \n",
            "=================================================================\n",
            "Total params: 656,583\n",
            "Trainable params: 655,815\n",
            "Non-trainable params: 768\n",
            "_________________________________________________________________\n"
          ]
        }
      ],
      "source": [
        "K.clear_session()\n",
        "\n",
        "input_y = Input(shape=X_train.shape[1:], name='Input_MELSPECT')\n",
        "\n",
        "y = TimeDistributed(Conv2D(64, kernel_size=(3, 3), padding='same'), name='Conv_1_MELSPECT')(input_y)\n",
        "y = TimeDistributed(BatchNormalization(), name='BatchNorm_1_MELSPECT')(y)\n",
        "y = TimeDistributed(Activation('elu'), name='Activ_1_MELSPECT')(y)\n",
        "y = TimeDistributed(MaxPooling2D(pool_size=(2, 2), strides=(2, 2), padding='same'), name='MaxPool_1_MELSPECT')(y)\n",
        "y = TimeDistributed(Dropout(0.2), name='Drop_1_MELSPECT')(y)     \n",
        "\n",
        "y = TimeDistributed(Conv2D(64, kernel_size=(3, 3), strides=(1, 1), padding='same'), name='Conv_2_MELSPECT')(y)\n",
        "y = TimeDistributed(BatchNormalization(), name='BatchNorm_2_MELSPECT')(y)\n",
        "y = TimeDistributed(Activation('elu'), name='Activ_2_MELSPECT')(y)\n",
        "y = TimeDistributed(MaxPooling2D(pool_size=(4, 4), strides=(4, 4), padding='same'), name='MaxPool_2_MELSPECT')(y)\n",
        "y = TimeDistributed(Dropout(0.2), name='Drop_2_MELSPECT')(y)\n",
        "\n",
        "y = TimeDistributed(Conv2D(128, kernel_size=(3, 3), strides=(1, 1), padding='same'), name='Conv_3_MELSPECT')(y)\n",
        "y = TimeDistributed(BatchNormalization(), name='BatchNorm_3_MELSPECT')(y)\n",
        "y = TimeDistributed(Activation('elu'), name='Activ_3_MELSPECT')(y)\n",
        "y = TimeDistributed(MaxPooling2D(pool_size=(4, 4), strides=(4, 4), padding='same'), name='MaxPool_3_MELSPECT')(y)\n",
        "y = TimeDistributed(Dropout(0.2), name='Drop_3_MELSPECT')(y)\n",
        "\n",
        "y = TimeDistributed(Conv2D(128, kernel_size=(3, 3), strides=(1, 1), padding='same'), name='Conv_4_MELSPECT')(y)\n",
        "y = TimeDistributed(BatchNormalization(), name='BatchNorm_4_MELSPECT')(y)\n",
        "y = TimeDistributed(Activation('elu'), name='Activ_4_MELSPECT')(y)\n",
        "y = TimeDistributed(MaxPooling2D(pool_size=(4, 4), strides=(4, 4), padding='same'), name='MaxPool_4_MELSPECT')(y)\n",
        "y = TimeDistributed(Dropout(0.2), name='Drop_4_MELSPECT')(y)  \n",
        "\n",
        "y = TimeDistributed(Flatten(), name='Flat_MELSPECT')(y)                                           \n",
        "# Apply 2 LSTM layer and one FC\n",
        "y = LSTM(256, return_sequences=False, dropout=0.2, name='LSTM_1')(y)\n",
        "y = Dense(y_train.shape[1], activation='softmax', name='FC')(y)\n",
        "\n",
        "# Build final model\n",
        "model = Model(inputs=input_y, outputs=y)\n",
        "model.summary()"
      ]
    },
    {
      "cell_type": "code",
      "execution_count": 9,
      "metadata": {
        "colab": {
          "base_uri": "https://localhost:8080/"
        },
        "id": "ZCcXYIPQub35",
        "outputId": "6b32e4b9-8773-4f5c-d382-d9fca66a40c3"
      },
      "outputs": [
        {
          "output_type": "stream",
          "name": "stdout",
          "text": [
            "Epoch 1/100\n",
            "51/51 [==============================] - 43s 515ms/step - loss: 1.9463 - accuracy: 0.1839 - val_loss: 2.0727 - val_accuracy: 0.1710\n",
            "Epoch 2/100\n",
            "51/51 [==============================] - 23s 457ms/step - loss: 1.8359 - accuracy: 0.2509 - val_loss: 1.9304 - val_accuracy: 0.2131\n",
            "Epoch 3/100\n",
            "51/51 [==============================] - 23s 459ms/step - loss: 1.7145 - accuracy: 0.2983 - val_loss: 2.0645 - val_accuracy: 0.2144\n",
            "Epoch 4/100\n",
            "51/51 [==============================] - 24s 463ms/step - loss: 1.6457 - accuracy: 0.3383 - val_loss: 1.8360 - val_accuracy: 0.2825\n",
            "Epoch 5/100\n",
            "51/51 [==============================] - 24s 466ms/step - loss: 1.5880 - accuracy: 0.3659 - val_loss: 1.9614 - val_accuracy: 0.2627\n",
            "Epoch 6/100\n",
            "51/51 [==============================] - 24s 469ms/step - loss: 1.5600 - accuracy: 0.3684 - val_loss: 1.8613 - val_accuracy: 0.2862\n",
            "Epoch 7/100\n",
            "51/51 [==============================] - 24s 467ms/step - loss: 1.5284 - accuracy: 0.3991 - val_loss: 1.6722 - val_accuracy: 0.3036\n",
            "Epoch 8/100\n",
            "51/51 [==============================] - 24s 466ms/step - loss: 1.4801 - accuracy: 0.4251 - val_loss: 1.7410 - val_accuracy: 0.2986\n",
            "Epoch 9/100\n",
            "51/51 [==============================] - 24s 468ms/step - loss: 1.4563 - accuracy: 0.4316 - val_loss: 1.4990 - val_accuracy: 0.4399\n",
            "Epoch 10/100\n",
            "51/51 [==============================] - 24s 467ms/step - loss: 1.4295 - accuracy: 0.4459 - val_loss: 1.4060 - val_accuracy: 0.4511\n",
            "Epoch 11/100\n",
            "51/51 [==============================] - 24s 467ms/step - loss: 1.3800 - accuracy: 0.4629 - val_loss: 1.4393 - val_accuracy: 0.4820\n",
            "Epoch 12/100\n",
            "51/51 [==============================] - 24s 465ms/step - loss: 1.3662 - accuracy: 0.4660 - val_loss: 1.4262 - val_accuracy: 0.4672\n",
            "Epoch 13/100\n",
            "51/51 [==============================] - 24s 465ms/step - loss: 1.3469 - accuracy: 0.4760 - val_loss: 1.3653 - val_accuracy: 0.4585\n",
            "Epoch 14/100\n",
            "51/51 [==============================] - 24s 465ms/step - loss: 1.3214 - accuracy: 0.4918 - val_loss: 1.4068 - val_accuracy: 0.4535\n",
            "Epoch 15/100\n",
            "51/51 [==============================] - 24s 465ms/step - loss: 1.2893 - accuracy: 0.5039 - val_loss: 1.6180 - val_accuracy: 0.3978\n",
            "Epoch 16/100\n",
            "51/51 [==============================] - 24s 465ms/step - loss: 1.2827 - accuracy: 0.5064 - val_loss: 1.5721 - val_accuracy: 0.4275\n",
            "Epoch 17/100\n",
            "51/51 [==============================] - 24s 465ms/step - loss: 1.2435 - accuracy: 0.5343 - val_loss: 1.6245 - val_accuracy: 0.4312\n",
            "Epoch 18/100\n",
            "51/51 [==============================] - 24s 465ms/step - loss: 1.2299 - accuracy: 0.5284 - val_loss: 1.4577 - val_accuracy: 0.4585\n",
            "Epoch 19/100\n",
            "51/51 [==============================] - 24s 465ms/step - loss: 1.2113 - accuracy: 0.5299 - val_loss: 1.7143 - val_accuracy: 0.4114\n",
            "Epoch 20/100\n",
            "51/51 [==============================] - 24s 465ms/step - loss: 1.1856 - accuracy: 0.5516 - val_loss: 1.5335 - val_accuracy: 0.4486\n",
            "Epoch 21/100\n",
            "51/51 [==============================] - 24s 467ms/step - loss: 1.1655 - accuracy: 0.5634 - val_loss: 1.2897 - val_accuracy: 0.5031\n",
            "Epoch 22/100\n",
            "51/51 [==============================] - 24s 466ms/step - loss: 1.1349 - accuracy: 0.5736 - val_loss: 1.8764 - val_accuracy: 0.4052\n",
            "Epoch 23/100\n",
            "51/51 [==============================] - 24s 466ms/step - loss: 1.1138 - accuracy: 0.5826 - val_loss: 1.5957 - val_accuracy: 0.4300\n",
            "Epoch 24/100\n",
            "51/51 [==============================] - 24s 466ms/step - loss: 1.0661 - accuracy: 0.5975 - val_loss: 2.6995 - val_accuracy: 0.2800\n",
            "Epoch 25/100\n",
            "51/51 [==============================] - 24s 466ms/step - loss: 1.0590 - accuracy: 0.6028 - val_loss: 2.0341 - val_accuracy: 0.3829\n",
            "Epoch 26/100\n",
            "51/51 [==============================] - 24s 466ms/step - loss: 1.0346 - accuracy: 0.6068 - val_loss: 1.6296 - val_accuracy: 0.4634\n",
            "Epoch 27/100\n",
            "51/51 [==============================] - 24s 466ms/step - loss: 1.0312 - accuracy: 0.6133 - val_loss: 1.4264 - val_accuracy: 0.5068\n",
            "Epoch 28/100\n",
            "51/51 [==============================] - 24s 465ms/step - loss: 1.0168 - accuracy: 0.6124 - val_loss: 1.7187 - val_accuracy: 0.4610\n",
            "Epoch 29/100\n",
            "51/51 [==============================] - 24s 466ms/step - loss: 0.9828 - accuracy: 0.6264 - val_loss: 1.7201 - val_accuracy: 0.4746\n",
            "Epoch 30/100\n",
            "51/51 [==============================] - 24s 466ms/step - loss: 0.9618 - accuracy: 0.6273 - val_loss: 1.8979 - val_accuracy: 0.3990\n",
            "Epoch 31/100\n",
            "51/51 [==============================] - 24s 467ms/step - loss: 0.9516 - accuracy: 0.6419 - val_loss: 1.2886 - val_accuracy: 0.5576\n",
            "Epoch 32/100\n",
            "51/51 [==============================] - 24s 468ms/step - loss: 0.9351 - accuracy: 0.6505 - val_loss: 1.3503 - val_accuracy: 0.5651\n",
            "Epoch 33/100\n",
            "51/51 [==============================] - 24s 466ms/step - loss: 0.9235 - accuracy: 0.6530 - val_loss: 1.5991 - val_accuracy: 0.4857\n",
            "Epoch 34/100\n",
            "51/51 [==============================] - 24s 466ms/step - loss: 0.9096 - accuracy: 0.6546 - val_loss: 1.5367 - val_accuracy: 0.5167\n",
            "Epoch 35/100\n",
            "51/51 [==============================] - 24s 466ms/step - loss: 0.9047 - accuracy: 0.6592 - val_loss: 1.6232 - val_accuracy: 0.4820\n",
            "Epoch 36/100\n",
            "51/51 [==============================] - 24s 467ms/step - loss: 0.8897 - accuracy: 0.6595 - val_loss: 1.2186 - val_accuracy: 0.5725\n",
            "Epoch 37/100\n",
            "51/51 [==============================] - 24s 465ms/step - loss: 0.8732 - accuracy: 0.6719 - val_loss: 1.3131 - val_accuracy: 0.5527\n",
            "Epoch 38/100\n",
            "51/51 [==============================] - 24s 467ms/step - loss: 0.8432 - accuracy: 0.6927 - val_loss: 0.9795 - val_accuracy: 0.6307\n",
            "Epoch 39/100\n",
            "51/51 [==============================] - 24s 466ms/step - loss: 0.8286 - accuracy: 0.6874 - val_loss: 1.5750 - val_accuracy: 0.5279\n",
            "Epoch 40/100\n",
            "51/51 [==============================] - 24s 466ms/step - loss: 0.8276 - accuracy: 0.6933 - val_loss: 1.6980 - val_accuracy: 0.4857\n",
            "Epoch 41/100\n",
            "51/51 [==============================] - 24s 466ms/step - loss: 0.7857 - accuracy: 0.6992 - val_loss: 1.3369 - val_accuracy: 0.5626\n",
            "Epoch 42/100\n",
            "51/51 [==============================] - 24s 466ms/step - loss: 0.8037 - accuracy: 0.6946 - val_loss: 1.2908 - val_accuracy: 0.5737\n",
            "Epoch 43/100\n",
            "51/51 [==============================] - 24s 466ms/step - loss: 0.8064 - accuracy: 0.6936 - val_loss: 1.3127 - val_accuracy: 0.5651\n",
            "Epoch 44/100\n",
            "51/51 [==============================] - 24s 466ms/step - loss: 0.7902 - accuracy: 0.7008 - val_loss: 1.2797 - val_accuracy: 0.5923\n",
            "Epoch 45/100\n",
            "51/51 [==============================] - 24s 466ms/step - loss: 0.7570 - accuracy: 0.7178 - val_loss: 1.6145 - val_accuracy: 0.5019\n",
            "Epoch 46/100\n",
            "51/51 [==============================] - 24s 467ms/step - loss: 0.7528 - accuracy: 0.7150 - val_loss: 0.9517 - val_accuracy: 0.6456\n",
            "Epoch 47/100\n",
            "51/51 [==============================] - 24s 466ms/step - loss: 0.7484 - accuracy: 0.7191 - val_loss: 1.0749 - val_accuracy: 0.6097\n",
            "Epoch 48/100\n",
            "51/51 [==============================] - 24s 466ms/step - loss: 0.7143 - accuracy: 0.7225 - val_loss: 1.4650 - val_accuracy: 0.5551\n",
            "Epoch 49/100\n",
            "51/51 [==============================] - 24s 467ms/step - loss: 0.7068 - accuracy: 0.7256 - val_loss: 0.8273 - val_accuracy: 0.6741\n",
            "Epoch 50/100\n",
            "51/51 [==============================] - 24s 466ms/step - loss: 0.6935 - accuracy: 0.7367 - val_loss: 1.7992 - val_accuracy: 0.4585\n",
            "Epoch 51/100\n",
            "51/51 [==============================] - 24s 465ms/step - loss: 0.6683 - accuracy: 0.7485 - val_loss: 1.2078 - val_accuracy: 0.6059\n",
            "Epoch 52/100\n",
            "51/51 [==============================] - 24s 466ms/step - loss: 0.6886 - accuracy: 0.7389 - val_loss: 1.7415 - val_accuracy: 0.5366\n",
            "Epoch 53/100\n",
            "51/51 [==============================] - 24s 466ms/step - loss: 0.6591 - accuracy: 0.7433 - val_loss: 1.6137 - val_accuracy: 0.5328\n",
            "Epoch 54/100\n",
            "51/51 [==============================] - 24s 466ms/step - loss: 0.6619 - accuracy: 0.7588 - val_loss: 1.2157 - val_accuracy: 0.6208\n",
            "Epoch 55/100\n",
            "51/51 [==============================] - 24s 466ms/step - loss: 0.6532 - accuracy: 0.7619 - val_loss: 1.1025 - val_accuracy: 0.6406\n",
            "Epoch 56/100\n",
            "51/51 [==============================] - 24s 466ms/step - loss: 0.6251 - accuracy: 0.7671 - val_loss: 1.0532 - val_accuracy: 0.6580\n",
            "Epoch 57/100\n",
            "51/51 [==============================] - 24s 467ms/step - loss: 0.6226 - accuracy: 0.7721 - val_loss: 0.8337 - val_accuracy: 0.7001\n",
            "Epoch 58/100\n",
            "51/51 [==============================] - 24s 465ms/step - loss: 0.6176 - accuracy: 0.7631 - val_loss: 0.8872 - val_accuracy: 0.6815\n",
            "Epoch 59/100\n",
            "51/51 [==============================] - 24s 466ms/step - loss: 0.6118 - accuracy: 0.7684 - val_loss: 1.0751 - val_accuracy: 0.6270\n",
            "Epoch 60/100\n",
            "51/51 [==============================] - 24s 465ms/step - loss: 0.5944 - accuracy: 0.7755 - val_loss: 0.9842 - val_accuracy: 0.6778\n",
            "Epoch 61/100\n",
            "51/51 [==============================] - 24s 466ms/step - loss: 0.5800 - accuracy: 0.7873 - val_loss: 2.8490 - val_accuracy: 0.4015\n",
            "Epoch 62/100\n",
            "51/51 [==============================] - 24s 466ms/step - loss: 0.5506 - accuracy: 0.7957 - val_loss: 1.4289 - val_accuracy: 0.5514\n",
            "Epoch 63/100\n",
            "51/51 [==============================] - 24s 466ms/step - loss: 0.5647 - accuracy: 0.7898 - val_loss: 0.9481 - val_accuracy: 0.6716\n",
            "Epoch 64/100\n",
            "51/51 [==============================] - 24s 466ms/step - loss: 0.5431 - accuracy: 0.7988 - val_loss: 1.5293 - val_accuracy: 0.5688\n",
            "Epoch 65/100\n",
            "51/51 [==============================] - 24s 466ms/step - loss: 0.5502 - accuracy: 0.8031 - val_loss: 1.2852 - val_accuracy: 0.6121\n",
            "Epoch 66/100\n",
            "51/51 [==============================] - 24s 466ms/step - loss: 0.5244 - accuracy: 0.8050 - val_loss: 0.9446 - val_accuracy: 0.6976\n",
            "Epoch 67/100\n",
            "51/51 [==============================] - 24s 466ms/step - loss: 0.5316 - accuracy: 0.8034 - val_loss: 1.2649 - val_accuracy: 0.6208\n",
            "Epoch 68/100\n",
            "51/51 [==============================] - 24s 467ms/step - loss: 0.5472 - accuracy: 0.7988 - val_loss: 0.8021 - val_accuracy: 0.7175\n",
            "Epoch 69/100\n",
            "51/51 [==============================] - 24s 466ms/step - loss: 0.4868 - accuracy: 0.8239 - val_loss: 0.9067 - val_accuracy: 0.6890\n",
            "Epoch 70/100\n",
            "51/51 [==============================] - 24s 466ms/step - loss: 0.4888 - accuracy: 0.8211 - val_loss: 1.1679 - val_accuracy: 0.6270\n",
            "Epoch 71/100\n",
            "51/51 [==============================] - 24s 466ms/step - loss: 0.4758 - accuracy: 0.8248 - val_loss: 0.9498 - val_accuracy: 0.7014\n",
            "Epoch 72/100\n",
            "51/51 [==============================] - 24s 465ms/step - loss: 0.4713 - accuracy: 0.8211 - val_loss: 1.5778 - val_accuracy: 0.5613\n",
            "Epoch 73/100\n",
            "51/51 [==============================] - 24s 466ms/step - loss: 0.4695 - accuracy: 0.8260 - val_loss: 2.9635 - val_accuracy: 0.3656\n",
            "Epoch 74/100\n",
            "51/51 [==============================] - 24s 466ms/step - loss: 0.4462 - accuracy: 0.8353 - val_loss: 1.0983 - val_accuracy: 0.6406\n",
            "Epoch 75/100\n",
            "51/51 [==============================] - 24s 466ms/step - loss: 0.4280 - accuracy: 0.8456 - val_loss: 1.1792 - val_accuracy: 0.6146\n",
            "Epoch 76/100\n",
            "51/51 [==============================] - 24s 466ms/step - loss: 0.4421 - accuracy: 0.8369 - val_loss: 1.2609 - val_accuracy: 0.6245\n",
            "Epoch 77/100\n",
            "51/51 [==============================] - 24s 465ms/step - loss: 0.4324 - accuracy: 0.8428 - val_loss: 1.1825 - val_accuracy: 0.6481\n",
            "Epoch 78/100\n",
            "51/51 [==============================] - 24s 466ms/step - loss: 0.4270 - accuracy: 0.8366 - val_loss: 1.6470 - val_accuracy: 0.5737\n",
            "Epoch 79/100\n",
            "51/51 [==============================] - 24s 466ms/step - loss: 0.4198 - accuracy: 0.8505 - val_loss: 0.9105 - val_accuracy: 0.7063\n",
            "Epoch 80/100\n",
            "51/51 [==============================] - 24s 466ms/step - loss: 0.4197 - accuracy: 0.8447 - val_loss: 1.2867 - val_accuracy: 0.5886\n",
            "Epoch 81/100\n",
            "51/51 [==============================] - 24s 465ms/step - loss: 0.3828 - accuracy: 0.8623 - val_loss: 1.3343 - val_accuracy: 0.5750\n",
            "Epoch 82/100\n",
            "51/51 [==============================] - 24s 466ms/step - loss: 0.4096 - accuracy: 0.8471 - val_loss: 1.3896 - val_accuracy: 0.6035\n",
            "Epoch 83/100\n",
            "51/51 [==============================] - 24s 467ms/step - loss: 0.3844 - accuracy: 0.8620 - val_loss: 1.3856 - val_accuracy: 0.6072\n",
            "Epoch 84/100\n",
            "51/51 [==============================] - 24s 466ms/step - loss: 0.3767 - accuracy: 0.8574 - val_loss: 1.0877 - val_accuracy: 0.6778\n",
            "Epoch 85/100\n",
            "51/51 [==============================] - 24s 466ms/step - loss: 0.3425 - accuracy: 0.8766 - val_loss: 2.0739 - val_accuracy: 0.5204\n",
            "Epoch 86/100\n",
            "51/51 [==============================] - 24s 467ms/step - loss: 0.3326 - accuracy: 0.8828 - val_loss: 0.9357 - val_accuracy: 0.7274\n",
            "Epoch 87/100\n",
            "51/51 [==============================] - 24s 466ms/step - loss: 0.3536 - accuracy: 0.8701 - val_loss: 0.9769 - val_accuracy: 0.7001\n",
            "Epoch 88/100\n",
            "51/51 [==============================] - 24s 466ms/step - loss: 0.3466 - accuracy: 0.8688 - val_loss: 1.4337 - val_accuracy: 0.6233\n",
            "Epoch 89/100\n",
            "51/51 [==============================] - 24s 466ms/step - loss: 0.3330 - accuracy: 0.8834 - val_loss: 0.9089 - val_accuracy: 0.6989\n",
            "Epoch 90/100\n",
            "51/51 [==============================] - 24s 466ms/step - loss: 0.3363 - accuracy: 0.8744 - val_loss: 1.3009 - val_accuracy: 0.6394\n",
            "Epoch 91/100\n",
            "51/51 [==============================] - 24s 466ms/step - loss: 0.3163 - accuracy: 0.8803 - val_loss: 1.4941 - val_accuracy: 0.6171\n",
            "Epoch 92/100\n",
            "51/51 [==============================] - 24s 466ms/step - loss: 0.3208 - accuracy: 0.8899 - val_loss: 1.0459 - val_accuracy: 0.6667\n",
            "Epoch 93/100\n",
            "51/51 [==============================] - 24s 466ms/step - loss: 0.3039 - accuracy: 0.8933 - val_loss: 1.8116 - val_accuracy: 0.5688\n",
            "Epoch 94/100\n",
            "51/51 [==============================] - 24s 466ms/step - loss: 0.2823 - accuracy: 0.9002 - val_loss: 1.5558 - val_accuracy: 0.6084\n",
            "Epoch 95/100\n",
            "51/51 [==============================] - 24s 466ms/step - loss: 0.2822 - accuracy: 0.8912 - val_loss: 1.3078 - val_accuracy: 0.6394\n",
            "Epoch 96/100\n",
            "51/51 [==============================] - 24s 466ms/step - loss: 0.2746 - accuracy: 0.8998 - val_loss: 0.9051 - val_accuracy: 0.7001\n",
            "Epoch 97/100\n",
            "51/51 [==============================] - 24s 467ms/step - loss: 0.2724 - accuracy: 0.9036 - val_loss: 0.7762 - val_accuracy: 0.7385\n",
            "Epoch 98/100\n",
            "51/51 [==============================] - 24s 466ms/step - loss: 0.2696 - accuracy: 0.9005 - val_loss: 0.9623 - val_accuracy: 0.7063\n",
            "Epoch 99/100\n",
            "51/51 [==============================] - 24s 466ms/step - loss: 0.2754 - accuracy: 0.8992 - val_loss: 1.3276 - val_accuracy: 0.6332\n",
            "Epoch 100/100\n",
            "51/51 [==============================] - 24s 466ms/step - loss: 0.2619 - accuracy: 0.9033 - val_loss: 0.8929 - val_accuracy: 0.7224\n"
          ]
        }
      ],
      "source": [
        "# Compile model\n",
        "model.compile(optimizer=SGD(lr=0.01, decay=1e-6, momentum=0.8), loss='categorical_crossentropy', metrics=['accuracy'])\n",
        "\n",
        "# Save best model\n",
        "best_model_save = ModelCheckpoint('CNN_LSTM_Model.hdf5', save_best_only=True, monitor='val_accuracy', mode='max')\n",
        "\n",
        "# Early stopping\n",
        "early_stopping = EarlyStopping(monitor='val_accuracy', patience=30, verbose=1, mode='max')\n",
        "\n",
        "# Fit model\n",
        "history = model.fit(X_train, y_train, batch_size=64, epochs=100, validation_data=(X_test, y_test), callbacks=[early_stopping, best_model_save,tf.keras.callbacks.CSVLogger('drive/My Drive/FYP/Pickle/mel_source_history.csv')])"
      ]
    },
    {
      "cell_type": "code",
      "execution_count": 10,
      "metadata": {
        "id": "P0O7q1GnUyr8",
        "colab": {
          "base_uri": "https://localhost:8080/"
        },
        "outputId": "0a3fe703-ec6c-4477-d133-334705eef5b7"
      },
      "outputs": [
        {
          "output_type": "stream",
          "name": "stdout",
          "text": [
            "26/26 [==============================] - 3s 84ms/step - loss: 0.8929 - accuracy: 0.7224\n"
          ]
        },
        {
          "output_type": "execute_result",
          "data": {
            "text/plain": [
              "[0.8928874731063843, 0.7224287390708923]"
            ]
          },
          "metadata": {},
          "execution_count": 10
        }
      ],
      "source": [
        "model.evaluate(X_test,y_test)"
      ]
    },
    {
      "cell_type": "code",
      "execution_count": 11,
      "metadata": {
        "id": "a2z59hZsuiPq"
      },
      "outputs": [],
      "source": [
        "y_pred=model.predict(X_test)\n",
        "y_classes = y_pred.argmax(axis=-1)"
      ]
    },
    {
      "cell_type": "code",
      "source": [
        "np.unique(y_classes)"
      ],
      "metadata": {
        "id": "pHFVtFd4dtfi",
        "colab": {
          "base_uri": "https://localhost:8080/"
        },
        "outputId": "5fa9fd27-6d88-47de-a5b7-5ae5db5f4fe6"
      },
      "execution_count": 12,
      "outputs": [
        {
          "output_type": "execute_result",
          "data": {
            "text/plain": [
              "array([0, 1, 2, 3, 4, 5, 6])"
            ]
          },
          "metadata": {},
          "execution_count": 12
        }
      ]
    },
    {
      "cell_type": "code",
      "source": [
        "my_dict={}"
      ],
      "metadata": {
        "id": "5BAUqd64e3wi"
      },
      "execution_count": 13,
      "outputs": []
    },
    {
      "cell_type": "code",
      "source": [
        "# np.vectorize(my_dict.get)(a)"
      ],
      "metadata": {
        "id": "HYNpByIle2xc"
      },
      "execution_count": 15,
      "outputs": []
    },
    {
      "cell_type": "code",
      "execution_count": null,
      "metadata": {
        "id": "DQ4Z89mUUHbK"
      },
      "outputs": [],
      "source": [
        "model.save('drive/My Drive/Pickle/[CNN-LSTM]M.h5')\n",
        "model.save_weights('drive/My Drive/Pickle/[CNN-LSTM]W.h5')"
      ]
    },
    {
      "cell_type": "code",
      "source": [
        "#  unaugmented_model = tf.keras.models.load_model('/content/drive/MyDrive/Pickle/unaugmented[CNN-LSTM]M.h5')\n",
        "#  unaugmented_model.load_weights('/content/drive/MyDrive/Pickle/unaugmented[CNN-LSTM]M.h5')"
      ],
      "metadata": {
        "id": "nSoeSeXT_CIy"
      },
      "execution_count": null,
      "outputs": []
    },
    {
      "cell_type": "code",
      "source": [
        "# loss, acc = new_model.evaluate(x_test, y_test, verbose=0)\n",
        "# print(f\"test accuracy {acc*100}\")\n",
        "history={}\n",
        "history[\"history\"] = pd.read_csv('/content/drive/MyDrive/FYP/Pickle/source_history.csv')\n",
        "history[\"history\"].head()"
      ],
      "metadata": {
        "id": "XopXJMH3A1Aj",
        "colab": {
          "base_uri": "https://localhost:8080/",
          "height": 206
        },
        "outputId": "c8c28c43-1220-41fa-a389-ac3ec7f223b3"
      },
      "execution_count": 16,
      "outputs": [
        {
          "output_type": "execute_result",
          "data": {
            "text/plain": [
              "   epoch  accuracy      loss  val_accuracy  val_loss\n",
              "0      0  0.176434  1.943628      0.137546  2.310542\n",
              "1      1  0.216124  1.866385      0.142503  2.304680\n",
              "2      2  0.288682  1.766965      0.237918  1.937099\n",
              "3      3  0.308217  1.716241      0.325898  1.773858\n",
              "4      4  0.334264  1.650814      0.363073  1.764403"
            ],
            "text/html": [
              "\n",
              "  <div id=\"df-793e224d-196b-42aa-b875-08d85408d2c2\">\n",
              "    <div class=\"colab-df-container\">\n",
              "      <div>\n",
              "<style scoped>\n",
              "    .dataframe tbody tr th:only-of-type {\n",
              "        vertical-align: middle;\n",
              "    }\n",
              "\n",
              "    .dataframe tbody tr th {\n",
              "        vertical-align: top;\n",
              "    }\n",
              "\n",
              "    .dataframe thead th {\n",
              "        text-align: right;\n",
              "    }\n",
              "</style>\n",
              "<table border=\"1\" class=\"dataframe\">\n",
              "  <thead>\n",
              "    <tr style=\"text-align: right;\">\n",
              "      <th></th>\n",
              "      <th>epoch</th>\n",
              "      <th>accuracy</th>\n",
              "      <th>loss</th>\n",
              "      <th>val_accuracy</th>\n",
              "      <th>val_loss</th>\n",
              "    </tr>\n",
              "  </thead>\n",
              "  <tbody>\n",
              "    <tr>\n",
              "      <th>0</th>\n",
              "      <td>0</td>\n",
              "      <td>0.176434</td>\n",
              "      <td>1.943628</td>\n",
              "      <td>0.137546</td>\n",
              "      <td>2.310542</td>\n",
              "    </tr>\n",
              "    <tr>\n",
              "      <th>1</th>\n",
              "      <td>1</td>\n",
              "      <td>0.216124</td>\n",
              "      <td>1.866385</td>\n",
              "      <td>0.142503</td>\n",
              "      <td>2.304680</td>\n",
              "    </tr>\n",
              "    <tr>\n",
              "      <th>2</th>\n",
              "      <td>2</td>\n",
              "      <td>0.288682</td>\n",
              "      <td>1.766965</td>\n",
              "      <td>0.237918</td>\n",
              "      <td>1.937099</td>\n",
              "    </tr>\n",
              "    <tr>\n",
              "      <th>3</th>\n",
              "      <td>3</td>\n",
              "      <td>0.308217</td>\n",
              "      <td>1.716241</td>\n",
              "      <td>0.325898</td>\n",
              "      <td>1.773858</td>\n",
              "    </tr>\n",
              "    <tr>\n",
              "      <th>4</th>\n",
              "      <td>4</td>\n",
              "      <td>0.334264</td>\n",
              "      <td>1.650814</td>\n",
              "      <td>0.363073</td>\n",
              "      <td>1.764403</td>\n",
              "    </tr>\n",
              "  </tbody>\n",
              "</table>\n",
              "</div>\n",
              "      <button class=\"colab-df-convert\" onclick=\"convertToInteractive('df-793e224d-196b-42aa-b875-08d85408d2c2')\"\n",
              "              title=\"Convert this dataframe to an interactive table.\"\n",
              "              style=\"display:none;\">\n",
              "        \n",
              "  <svg xmlns=\"http://www.w3.org/2000/svg\" height=\"24px\"viewBox=\"0 0 24 24\"\n",
              "       width=\"24px\">\n",
              "    <path d=\"M0 0h24v24H0V0z\" fill=\"none\"/>\n",
              "    <path d=\"M18.56 5.44l.94 2.06.94-2.06 2.06-.94-2.06-.94-.94-2.06-.94 2.06-2.06.94zm-11 1L8.5 8.5l.94-2.06 2.06-.94-2.06-.94L8.5 2.5l-.94 2.06-2.06.94zm10 10l.94 2.06.94-2.06 2.06-.94-2.06-.94-.94-2.06-.94 2.06-2.06.94z\"/><path d=\"M17.41 7.96l-1.37-1.37c-.4-.4-.92-.59-1.43-.59-.52 0-1.04.2-1.43.59L10.3 9.45l-7.72 7.72c-.78.78-.78 2.05 0 2.83L4 21.41c.39.39.9.59 1.41.59.51 0 1.02-.2 1.41-.59l7.78-7.78 2.81-2.81c.8-.78.8-2.07 0-2.86zM5.41 20L4 18.59l7.72-7.72 1.47 1.35L5.41 20z\"/>\n",
              "  </svg>\n",
              "      </button>\n",
              "      \n",
              "  <style>\n",
              "    .colab-df-container {\n",
              "      display:flex;\n",
              "      flex-wrap:wrap;\n",
              "      gap: 12px;\n",
              "    }\n",
              "\n",
              "    .colab-df-convert {\n",
              "      background-color: #E8F0FE;\n",
              "      border: none;\n",
              "      border-radius: 50%;\n",
              "      cursor: pointer;\n",
              "      display: none;\n",
              "      fill: #1967D2;\n",
              "      height: 32px;\n",
              "      padding: 0 0 0 0;\n",
              "      width: 32px;\n",
              "    }\n",
              "\n",
              "    .colab-df-convert:hover {\n",
              "      background-color: #E2EBFA;\n",
              "      box-shadow: 0px 1px 2px rgba(60, 64, 67, 0.3), 0px 1px 3px 1px rgba(60, 64, 67, 0.15);\n",
              "      fill: #174EA6;\n",
              "    }\n",
              "\n",
              "    [theme=dark] .colab-df-convert {\n",
              "      background-color: #3B4455;\n",
              "      fill: #D2E3FC;\n",
              "    }\n",
              "\n",
              "    [theme=dark] .colab-df-convert:hover {\n",
              "      background-color: #434B5C;\n",
              "      box-shadow: 0px 1px 3px 1px rgba(0, 0, 0, 0.15);\n",
              "      filter: drop-shadow(0px 1px 2px rgba(0, 0, 0, 0.3));\n",
              "      fill: #FFFFFF;\n",
              "    }\n",
              "  </style>\n",
              "\n",
              "      <script>\n",
              "        const buttonEl =\n",
              "          document.querySelector('#df-793e224d-196b-42aa-b875-08d85408d2c2 button.colab-df-convert');\n",
              "        buttonEl.style.display =\n",
              "          google.colab.kernel.accessAllowed ? 'block' : 'none';\n",
              "\n",
              "        async function convertToInteractive(key) {\n",
              "          const element = document.querySelector('#df-793e224d-196b-42aa-b875-08d85408d2c2');\n",
              "          const dataTable =\n",
              "            await google.colab.kernel.invokeFunction('convertToInteractive',\n",
              "                                                     [key], {});\n",
              "          if (!dataTable) return;\n",
              "\n",
              "          const docLinkHtml = 'Like what you see? Visit the ' +\n",
              "            '<a target=\"_blank\" href=https://colab.research.google.com/notebooks/data_table.ipynb>data table notebook</a>'\n",
              "            + ' to learn more about interactive tables.';\n",
              "          element.innerHTML = '';\n",
              "          dataTable['output_type'] = 'display_data';\n",
              "          await google.colab.output.renderOutput(dataTable, element);\n",
              "          const docLink = document.createElement('div');\n",
              "          docLink.innerHTML = docLinkHtml;\n",
              "          element.appendChild(docLink);\n",
              "        }\n",
              "      </script>\n",
              "    </div>\n",
              "  </div>\n",
              "  "
            ]
          },
          "metadata": {},
          "execution_count": 16
        }
      ]
    },
    {
      "cell_type": "code",
      "source": [
        "history"
      ],
      "metadata": {
        "colab": {
          "base_uri": "https://localhost:8080/"
        },
        "id": "OYTI9EfPlu8_",
        "outputId": "cea99553-7625-4ac6-8fc9-378c5ef76c6a"
      },
      "execution_count": 17,
      "outputs": [
        {
          "output_type": "execute_result",
          "data": {
            "text/plain": [
              "{'history':     epoch  accuracy      loss  val_accuracy  val_loss\n",
              " 0       0  0.176434  1.943628      0.137546  2.310542\n",
              " 1       1  0.216124  1.866385      0.142503  2.304680\n",
              " 2       2  0.288682  1.766965      0.237918  1.937099\n",
              " 3       3  0.308217  1.716241      0.325898  1.773858\n",
              " 4       4  0.334264  1.650814      0.363073  1.764403\n",
              " ..    ...       ...       ...           ...       ...\n",
              " 95     95  0.878450  0.335211      0.690211  1.128962\n",
              " 96     96  0.883101  0.320538      0.684015  1.118421\n",
              " 97     97  0.878140  0.326981      0.722429  0.938620\n",
              " 98     98  0.889922  0.311682      0.473358  2.482491\n",
              " 99     99  0.885581  0.304403      0.587361  1.571177\n",
              " \n",
              " [100 rows x 5 columns]}"
            ]
          },
          "metadata": {},
          "execution_count": 17
        }
      ]
    },
    {
      "cell_type": "code",
      "execution_count": 18,
      "metadata": {
        "id": "AfNGD0f1fLdd",
        "colab": {
          "base_uri": "https://localhost:8080/",
          "height": 628
        },
        "outputId": "b1083bd4-1f53-49f3-f6d7-59b0ae6d6558"
      },
      "outputs": [
        {
          "output_type": "execute_result",
          "data": {
            "text/plain": [
              "Text(0, 0.5, 'Accuracy')"
            ]
          },
          "metadata": {},
          "execution_count": 18
        },
        {
          "output_type": "display_data",
          "data": {
            "text/plain": [
              "<Figure size 1800x720 with 1 Axes>"
            ],
            "image/png": "[encoded data removed]"
          },
          "metadata": {
            "needs_background": "light"
          }
        }
      ],
      "source": [
        "plt.figure(figsize=(25,10))\n",
        "plt.subplot(1,2,1)\n",
        "plt.plot(history['history']['accuracy'],'-b')\n",
        "plt.plot(history['history']['val_accuracy'],'r')\n",
        "plt.legend(['Training accuracy','Testing accuracy'])\n",
        "plt.axis([0, 100, 0, 1])\n",
        "plt.xlabel('Epochs')\n",
        "plt.ylabel('Accuracy')\n",
        "\n"
      ]
    },
    {
      "cell_type": "code",
      "source": [
        "history={}\n",
        "history[\"history\"] = pd.read_csv('/content/drive/MyDrive/FYP/Pickle/unaugmented_history.csv')\n",
        "history[\"history\"].head()"
      ],
      "metadata": {
        "id": "KZE0ZkCA-C5p",
        "colab": {
          "base_uri": "https://localhost:8080/",
          "height": 206
        },
        "outputId": "f501d222-3c1c-403b-b6c8-928ce0ff0d33"
      },
      "execution_count": 19,
      "outputs": [
        {
          "output_type": "execute_result",
          "data": {
            "text/plain": [
              "   epoch  accuracy      loss  val_accuracy  val_loss\n",
              "0      0  0.670698  0.844424      0.371747  2.340874\n",
              "1      1  0.665116  0.876073      0.178439  3.659123\n",
              "2      2  0.684651  0.848129      0.334572  2.660065\n",
              "3      3  0.675349  0.850737      0.446097  2.100447\n",
              "4      4  0.671628  0.815418      0.401487  1.940121"
            ],
            "text/html": [
              "\n",
              "  <div id=\"df-a2cc19a6-5505-404e-bd23-dbf7b18a2b3f\">\n",
              "    <div class=\"colab-df-container\">\n",
              "      <div>\n",
              "<style scoped>\n",
              "    .dataframe tbody tr th:only-of-type {\n",
              "        vertical-align: middle;\n",
              "    }\n",
              "\n",
              "    .dataframe tbody tr th {\n",
              "        vertical-align: top;\n",
              "    }\n",
              "\n",
              "    .dataframe thead th {\n",
              "        text-align: right;\n",
              "    }\n",
              "</style>\n",
              "<table border=\"1\" class=\"dataframe\">\n",
              "  <thead>\n",
              "    <tr style=\"text-align: right;\">\n",
              "      <th></th>\n",
              "      <th>epoch</th>\n",
              "      <th>accuracy</th>\n",
              "      <th>loss</th>\n",
              "      <th>val_accuracy</th>\n",
              "      <th>val_loss</th>\n",
              "    </tr>\n",
              "  </thead>\n",
              "  <tbody>\n",
              "    <tr>\n",
              "      <th>0</th>\n",
              "      <td>0</td>\n",
              "      <td>0.670698</td>\n",
              "      <td>0.844424</td>\n",
              "      <td>0.371747</td>\n",
              "      <td>2.340874</td>\n",
              "    </tr>\n",
              "    <tr>\n",
              "      <th>1</th>\n",
              "      <td>1</td>\n",
              "      <td>0.665116</td>\n",
              "      <td>0.876073</td>\n",
              "      <td>0.178439</td>\n",
              "      <td>3.659123</td>\n",
              "    </tr>\n",
              "    <tr>\n",
              "      <th>2</th>\n",
              "      <td>2</td>\n",
              "      <td>0.684651</td>\n",
              "      <td>0.848129</td>\n",
              "      <td>0.334572</td>\n",
              "      <td>2.660065</td>\n",
              "    </tr>\n",
              "    <tr>\n",
              "      <th>3</th>\n",
              "      <td>3</td>\n",
              "      <td>0.675349</td>\n",
              "      <td>0.850737</td>\n",
              "      <td>0.446097</td>\n",
              "      <td>2.100447</td>\n",
              "    </tr>\n",
              "    <tr>\n",
              "      <th>4</th>\n",
              "      <td>4</td>\n",
              "      <td>0.671628</td>\n",
              "      <td>0.815418</td>\n",
              "      <td>0.401487</td>\n",
              "      <td>1.940121</td>\n",
              "    </tr>\n",
              "  </tbody>\n",
              "</table>\n",
              "</div>\n",
              "      <button class=\"colab-df-convert\" onclick=\"convertToInteractive('df-a2cc19a6-5505-404e-bd23-dbf7b18a2b3f')\"\n",
              "              title=\"Convert this dataframe to an interactive table.\"\n",
              "              style=\"display:none;\">\n",
              "        \n",
              "  <svg xmlns=\"http://www.w3.org/2000/svg\" height=\"24px\"viewBox=\"0 0 24 24\"\n",
              "       width=\"24px\">\n",
              "    <path d=\"M0 0h24v24H0V0z\" fill=\"none\"/>\n",
              "    <path d=\"M18.56 5.44l.94 2.06.94-2.06 2.06-.94-2.06-.94-.94-2.06-.94 2.06-2.06.94zm-11 1L8.5 8.5l.94-2.06 2.06-.94-2.06-.94L8.5 2.5l-.94 2.06-2.06.94zm10 10l.94 2.06.94-2.06 2.06-.94-2.06-.94-.94-2.06-.94 2.06-2.06.94z\"/><path d=\"M17.41 7.96l-1.37-1.37c-.4-.4-.92-.59-1.43-.59-.52 0-1.04.2-1.43.59L10.3 9.45l-7.72 7.72c-.78.78-.78 2.05 0 2.83L4 21.41c.39.39.9.59 1.41.59.51 0 1.02-.2 1.41-.59l7.78-7.78 2.81-2.81c.8-.78.8-2.07 0-2.86zM5.41 20L4 18.59l7.72-7.72 1.47 1.35L5.41 20z\"/>\n",
              "  </svg>\n",
              "      </button>\n",
              "      \n",
              "  <style>\n",
              "    .colab-df-container {\n",
              "      display:flex;\n",
              "      flex-wrap:wrap;\n",
              "      gap: 12px;\n",
              "    }\n",
              "\n",
              "    .colab-df-convert {\n",
              "      background-color: #E8F0FE;\n",
              "      border: none;\n",
              "      border-radius: 50%;\n",
              "      cursor: pointer;\n",
              "      display: none;\n",
              "      fill: #1967D2;\n",
              "      height: 32px;\n",
              "      padding: 0 0 0 0;\n",
              "      width: 32px;\n",
              "    }\n",
              "\n",
              "    .colab-df-convert:hover {\n",
              "      background-color: #E2EBFA;\n",
              "      box-shadow: 0px 1px 2px rgba(60, 64, 67, 0.3), 0px 1px 3px 1px rgba(60, 64, 67, 0.15);\n",
              "      fill: #174EA6;\n",
              "    }\n",
              "\n",
              "    [theme=dark] .colab-df-convert {\n",
              "      background-color: #3B4455;\n",
              "      fill: #D2E3FC;\n",
              "    }\n",
              "\n",
              "    [theme=dark] .colab-df-convert:hover {\n",
              "      background-color: #434B5C;\n",
              "      box-shadow: 0px 1px 3px 1px rgba(0, 0, 0, 0.15);\n",
              "      filter: drop-shadow(0px 1px 2px rgba(0, 0, 0, 0.3));\n",
              "      fill: #FFFFFF;\n",
              "    }\n",
              "  </style>\n",
              "\n",
              "      <script>\n",
              "        const buttonEl =\n",
              "          document.querySelector('#df-a2cc19a6-5505-404e-bd23-dbf7b18a2b3f button.colab-df-convert');\n",
              "        buttonEl.style.display =\n",
              "          google.colab.kernel.accessAllowed ? 'block' : 'none';\n",
              "\n",
              "        async function convertToInteractive(key) {\n",
              "          const element = document.querySelector('#df-a2cc19a6-5505-404e-bd23-dbf7b18a2b3f');\n",
              "          const dataTable =\n",
              "            await google.colab.kernel.invokeFunction('convertToInteractive',\n",
              "                                                     [key], {});\n",
              "          if (!dataTable) return;\n",
              "\n",
              "          const docLinkHtml = 'Like what you see? Visit the ' +\n",
              "            '<a target=\"_blank\" href=https://colab.research.google.com/notebooks/data_table.ipynb>data table notebook</a>'\n",
              "            + ' to learn more about interactive tables.';\n",
              "          element.innerHTML = '';\n",
              "          dataTable['output_type'] = 'display_data';\n",
              "          await google.colab.output.renderOutput(dataTable, element);\n",
              "          const docLink = document.createElement('div');\n",
              "          docLink.innerHTML = docLinkHtml;\n",
              "          element.appendChild(docLink);\n",
              "        }\n",
              "      </script>\n",
              "    </div>\n",
              "  </div>\n",
              "  "
            ]
          },
          "metadata": {},
          "execution_count": 19
        }
      ]
    },
    {
      "cell_type": "code",
      "source": [
        "plt.figure(figsize=(25,10))\n",
        "plt.subplot(1,2,1)\n",
        "plt.plot(history['history']['accuracy'],'-b')\n",
        "plt.plot(history['history']['val_accuracy'],'r')\n",
        "plt.legend(['Training accuracy','Testing accuracy'])\n",
        "plt.axis([0, 100, 0, 1])\n",
        "plt.xlabel('Epochs')\n",
        "plt.ylabel('Accuracy')"
      ],
      "metadata": {
        "id": "2WKYt9oJmZgk",
        "outputId": "16950f47-6006-44b0-b3f5-ac38fc3810c5",
        "colab": {
          "base_uri": "https://localhost:8080/",
          "height": 628
        }
      },
      "execution_count": 20,
      "outputs": [
        {
          "output_type": "execute_result",
          "data": {
            "text/plain": [
              "Text(0, 0.5, 'Accuracy')"
            ]
          },
          "metadata": {},
          "execution_count": 20
        },
        {
          "output_type": "display_data",
          "data": {
            "text/plain": [
              "<Figure size 1800x720 with 1 Axes>"
            ],
            "image/png": "[encoded data removed]"
          },
          "metadata": {
            "needs_background": "light"
          }
        }
      ]
    },
    {
      "cell_type": "code",
      "source": [
        "history={}\n",
        "history[\"history\"] = pd.read_csv('/content/drive/MyDrive/FYP/Pickle/mel_source_history.csv')\n",
        "history[\"history\"].head()"
      ],
      "metadata": {
        "id": "2bGn5HX9mdZR",
        "colab": {
          "base_uri": "https://localhost:8080/",
          "height": 206
        },
        "outputId": "17a1acb2-7957-4d96-8c61-cf939300cd27"
      },
      "execution_count": 21,
      "outputs": [
        {
          "output_type": "execute_result",
          "data": {
            "text/plain": [
              "   epoch  accuracy      loss  val_accuracy  val_loss\n",
              "0      0  0.183876  1.946318      0.171004  2.072664\n",
              "1      1  0.250853  1.835925      0.213135  1.930380\n",
              "2      2  0.298295  1.714530      0.214374  2.064523\n",
              "3      3  0.338295  1.645723      0.282528  1.836003\n",
              "4      4  0.365891  1.588006      0.262701  1.961444"
            ],
            "text/html": [
              "\n",
              "  <div id=\"df-32ff19ba-e70b-4e17-93f3-bc70f919715c\">\n",
              "    <div class=\"colab-df-container\">\n",
              "      <div>\n",
              "<style scoped>\n",
              "    .dataframe tbody tr th:only-of-type {\n",
              "        vertical-align: middle;\n",
              "    }\n",
              "\n",
              "    .dataframe tbody tr th {\n",
              "        vertical-align: top;\n",
              "    }\n",
              "\n",
              "    .dataframe thead th {\n",
              "        text-align: right;\n",
              "    }\n",
              "</style>\n",
              "<table border=\"1\" class=\"dataframe\">\n",
              "  <thead>\n",
              "    <tr style=\"text-align: right;\">\n",
              "      <th></th>\n",
              "      <th>epoch</th>\n",
              "      <th>accuracy</th>\n",
              "      <th>loss</th>\n",
              "      <th>val_accuracy</th>\n",
              "      <th>val_loss</th>\n",
              "    </tr>\n",
              "  </thead>\n",
              "  <tbody>\n",
              "    <tr>\n",
              "      <th>0</th>\n",
              "      <td>0</td>\n",
              "      <td>0.183876</td>\n",
              "      <td>1.946318</td>\n",
              "      <td>0.171004</td>\n",
              "      <td>2.072664</td>\n",
              "    </tr>\n",
              "    <tr>\n",
              "      <th>1</th>\n",
              "      <td>1</td>\n",
              "      <td>0.250853</td>\n",
              "      <td>1.835925</td>\n",
              "      <td>0.213135</td>\n",
              "      <td>1.930380</td>\n",
              "    </tr>\n",
              "    <tr>\n",
              "      <th>2</th>\n",
              "      <td>2</td>\n",
              "      <td>0.298295</td>\n",
              "      <td>1.714530</td>\n",
              "      <td>0.214374</td>\n",
              "      <td>2.064523</td>\n",
              "    </tr>\n",
              "    <tr>\n",
              "      <th>3</th>\n",
              "      <td>3</td>\n",
              "      <td>0.338295</td>\n",
              "      <td>1.645723</td>\n",
              "      <td>0.282528</td>\n",
              "      <td>1.836003</td>\n",
              "    </tr>\n",
              "    <tr>\n",
              "      <th>4</th>\n",
              "      <td>4</td>\n",
              "      <td>0.365891</td>\n",
              "      <td>1.588006</td>\n",
              "      <td>0.262701</td>\n",
              "      <td>1.961444</td>\n",
              "    </tr>\n",
              "  </tbody>\n",
              "</table>\n",
              "</div>\n",
              "      <button class=\"colab-df-convert\" onclick=\"convertToInteractive('df-32ff19ba-e70b-4e17-93f3-bc70f919715c')\"\n",
              "              title=\"Convert this dataframe to an interactive table.\"\n",
              "              style=\"display:none;\">\n",
              "        \n",
              "  <svg xmlns=\"http://www.w3.org/2000/svg\" height=\"24px\"viewBox=\"0 0 24 24\"\n",
              "       width=\"24px\">\n",
              "    <path d=\"M0 0h24v24H0V0z\" fill=\"none\"/>\n",
              "    <path d=\"M18.56 5.44l.94 2.06.94-2.06 2.06-.94-2.06-.94-.94-2.06-.94 2.06-2.06.94zm-11 1L8.5 8.5l.94-2.06 2.06-.94-2.06-.94L8.5 2.5l-.94 2.06-2.06.94zm10 10l.94 2.06.94-2.06 2.06-.94-2.06-.94-.94-2.06-.94 2.06-2.06.94z\"/><path d=\"M17.41 7.96l-1.37-1.37c-.4-.4-.92-.59-1.43-.59-.52 0-1.04.2-1.43.59L10.3 9.45l-7.72 7.72c-.78.78-.78 2.05 0 2.83L4 21.41c.39.39.9.59 1.41.59.51 0 1.02-.2 1.41-.59l7.78-7.78 2.81-2.81c.8-.78.8-2.07 0-2.86zM5.41 20L4 18.59l7.72-7.72 1.47 1.35L5.41 20z\"/>\n",
              "  </svg>\n",
              "      </button>\n",
              "      \n",
              "  <style>\n",
              "    .colab-df-container {\n",
              "      display:flex;\n",
              "      flex-wrap:wrap;\n",
              "      gap: 12px;\n",
              "    }\n",
              "\n",
              "    .colab-df-convert {\n",
              "      background-color: #E8F0FE;\n",
              "      border: none;\n",
              "      border-radius: 50%;\n",
              "      cursor: pointer;\n",
              "      display: none;\n",
              "      fill: #1967D2;\n",
              "      height: 32px;\n",
              "      padding: 0 0 0 0;\n",
              "      width: 32px;\n",
              "    }\n",
              "\n",
              "    .colab-df-convert:hover {\n",
              "      background-color: #E2EBFA;\n",
              "      box-shadow: 0px 1px 2px rgba(60, 64, 67, 0.3), 0px 1px 3px 1px rgba(60, 64, 67, 0.15);\n",
              "      fill: #174EA6;\n",
              "    }\n",
              "\n",
              "    [theme=dark] .colab-df-convert {\n",
              "      background-color: #3B4455;\n",
              "      fill: #D2E3FC;\n",
              "    }\n",
              "\n",
              "    [theme=dark] .colab-df-convert:hover {\n",
              "      background-color: #434B5C;\n",
              "      box-shadow: 0px 1px 3px 1px rgba(0, 0, 0, 0.15);\n",
              "      filter: drop-shadow(0px 1px 2px rgba(0, 0, 0, 0.3));\n",
              "      fill: #FFFFFF;\n",
              "    }\n",
              "  </style>\n",
              "\n",
              "      <script>\n",
              "        const buttonEl =\n",
              "          document.querySelector('#df-32ff19ba-e70b-4e17-93f3-bc70f919715c button.colab-df-convert');\n",
              "        buttonEl.style.display =\n",
              "          google.colab.kernel.accessAllowed ? 'block' : 'none';\n",
              "\n",
              "        async function convertToInteractive(key) {\n",
              "          const element = document.querySelector('#df-32ff19ba-e70b-4e17-93f3-bc70f919715c');\n",
              "          const dataTable =\n",
              "            await google.colab.kernel.invokeFunction('convertToInteractive',\n",
              "                                                     [key], {});\n",
              "          if (!dataTable) return;\n",
              "\n",
              "          const docLinkHtml = 'Like what you see? Visit the ' +\n",
              "            '<a target=\"_blank\" href=https://colab.research.google.com/notebooks/data_table.ipynb>data table notebook</a>'\n",
              "            + ' to learn more about interactive tables.';\n",
              "          element.innerHTML = '';\n",
              "          dataTable['output_type'] = 'display_data';\n",
              "          await google.colab.output.renderOutput(dataTable, element);\n",
              "          const docLink = document.createElement('div');\n",
              "          docLink.innerHTML = docLinkHtml;\n",
              "          element.appendChild(docLink);\n",
              "        }\n",
              "      </script>\n",
              "    </div>\n",
              "  </div>\n",
              "  "
            ]
          },
          "metadata": {},
          "execution_count": 21
        }
      ]
    },
    {
      "cell_type": "code",
      "source": [
        "plt.figure(figsize=(25,10))\n",
        "plt.subplot(1,2,1)\n",
        "plt.plot(history['history']['accuracy'],'-b')\n",
        "plt.plot(history['history']['val_accuracy'],'r')\n",
        "plt.legend(['Training accuracy','Testing accuracy'])\n",
        "plt.axis([0, 100, 0, 1])\n",
        "plt.xlabel('Epochs')\n",
        "plt.ylabel('Accuracy')"
      ],
      "metadata": {
        "colab": {
          "base_uri": "https://localhost:8080/",
          "height": 628
        },
        "id": "7gT--92UofNn",
        "outputId": "a9d6d80e-882b-477a-9a13-2e6deeeb3cad"
      },
      "execution_count": 22,
      "outputs": [
        {
          "output_type": "execute_result",
          "data": {
            "text/plain": [
              "Text(0, 0.5, 'Accuracy')"
            ]
          },
          "metadata": {},
          "execution_count": 22
        },
        {
          "output_type": "display_data",
          "data": {
            "text/plain": [
              "<Figure size 1800x720 with 1 Axes>"
            ],
            "image/png": "[encoded data removed]"
          },
          "metadata": {
            "needs_background": "light"
          }
        }
      ]
    },
    {
      "cell_type": "code",
      "source": [
        ""
      ],
      "metadata": {
        "id": "tTBPG7OQonq6"
      },
      "execution_count": null,
      "outputs": []
    }
  ],
  "metadata": {
    "accelerator": "GPU",
    "colab": {
      "name": "mfcc_Model.ipynb",
      "provenance": [],
      "collapsed_sections": [],
      "include_colab_link": true
    },
    "kernelspec": {
      "display_name": "Python 3",
      "name": "python3"
    },
    "language_info": {
      "name": "python"
    }
  },
  "nbformat": 4,
  "nbformat_minor": 0
}