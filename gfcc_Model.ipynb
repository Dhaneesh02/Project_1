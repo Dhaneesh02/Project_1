{
  "cells": [
    {
      "cell_type": "markdown",
      "metadata": {
        "id": "view-in-github",
        "colab_type": "text"
      },
      "source": [
        "<a href=\"https://colab.research.google.com/github/Dhaneesh02/Project_1/blob/gfcc/gfcc_Model.ipynb\" target=\"_parent\"><img src=\"https://colab.research.google.com/assets/colab-badge.svg\" alt=\"Open In Colab\"/></a>"
      ]
    },
    {
      "cell_type": "code",
      "execution_count": 1,
      "metadata": {
        "id": "IXlv2zfHqT7k"
      },
      "outputs": [],
      "source": [
        "from keras.utils.vis_utils import plot_model"
      ]
    },
    {
      "cell_type": "code",
      "execution_count": 2,
      "metadata": {
        "id": "i8FR_AIhs4qd"
      },
      "outputs": [],
      "source": [
        "import os\n",
        "from glob import glob\n",
        "import pickle\n",
        "import numpy as np\n",
        "\n",
        "### Plot imports ###\n",
        "from IPython.display import Image\n",
        "import matplotlib.pyplot as plt\n",
        "\n",
        "### Time Distributed ConvNet imports ###\n",
        "import tensorflow as tf\n",
        "from tensorflow.keras.models import Sequential, Model\n",
        "from tensorflow.keras.layers import Input, Dense, Dropout, Activation, TimeDistributed, concatenate\n",
        "from tensorflow.keras.layers import Conv2D, MaxPooling2D, AveragePooling2D, BatchNormalization, LeakyReLU, Flatten\n",
        "from tensorflow.keras.layers import LSTM\n",
        "from tensorflow.keras.optimizers import Adam, SGD\n",
        "from tensorflow.keras.callbacks import EarlyStopping, ModelCheckpoint, ReduceLROnPlateau\n",
        "from tensorflow.keras import backend as K\n",
        "from keras.utils import np_utils\n",
        "from keras.utils.vis_utils import plot_model\n",
        "from sklearn.preprocessing import LabelEncoder\n",
        "\n",
        "### Warning ###\n",
        "import warnings\n",
        "warnings.filterwarnings('ignore')"
      ]
    },
    {
      "cell_type": "code",
      "execution_count": 3,
      "metadata": {
        "id": "lkZXrJJFs6Co",
        "colab": {
          "base_uri": "https://localhost:8080/"
        },
        "outputId": "8f6e6acd-1a05-477b-e5e0-5633efa98b2a"
      },
      "outputs": [
        {
          "output_type": "stream",
          "name": "stdout",
          "text": [
            "Mounted at /content/drive\n"
          ]
        }
      ],
      "source": [
        "from google.colab import drive\n",
        "drive.mount('/content/drive')"
      ]
    },
    {
      "cell_type": "code",
      "execution_count": 4,
      "metadata": {
        "id": "hqD7qk4ms6hQ"
      },
      "outputs": [],
      "source": [
        "X_train = pickle.load(open('drive/MyDrive/Pickle/[RAVDESS][GAM_SPECT][X_train].p', 'rb'))\n",
        "y_train = pickle.load(open('drive/MyDrive/Pickle/[RAVDESS][GAM_SPECT][y_train].p', 'rb'))\n",
        "y_test = pickle.load(open('drive/MyDrive/Pickle/[RAVDESS][GAM_SPECT][y_test].p', 'rb'))\n",
        "X_test = pickle.load(open('drive/MyDrive/Pickle/[RAVDESS][GAM_SPECT][X_test].p', 'rb'))"
      ]
    },
    {
      "cell_type": "code",
      "execution_count": 4,
      "metadata": {
        "id": "q_3QiW-aDVPX"
      },
      "outputs": [],
      "source": [
        ""
      ]
    },
    {
      "cell_type": "code",
      "execution_count": 5,
      "metadata": {
        "id": "iTY3-pprDFEV",
        "colab": {
          "base_uri": "https://localhost:8080/"
        },
        "outputId": "b09b865c-deb9-4b8c-a31c-137fad0f26c9"
      },
      "outputs": [
        {
          "output_type": "stream",
          "name": "stdout",
          "text": [
            "(3225, 5, 128, 128)\n",
            "(3225,)\n",
            "(807, 5, 128, 128)\n",
            "(807,)\n"
          ]
        }
      ],
      "source": [
        "print(X_train.shape)\n",
        "print(y_train.shape)\n",
        "print(X_test.shape)\n",
        "print(y_test.shape)"
      ]
    },
    {
      "cell_type": "code",
      "execution_count": 6,
      "metadata": {
        "id": "HGGImqnzuD1T"
      },
      "outputs": [],
      "source": [
        "lb = LabelEncoder()\n",
        "y_train = np_utils.to_categorical(lb.fit_transform(np.ravel(y_train)))\n",
        "y_test = np_utils.to_categorical(lb.transform(np.ravel(y_test)))"
      ]
    },
    {
      "cell_type": "code",
      "execution_count": 7,
      "metadata": {
        "id": "nJPij1oruVBM"
      },
      "outputs": [],
      "source": [
        "# Reshape for convolution\n",
        "X_train = X_train.reshape(X_train.shape[0], X_train.shape[1] , X_train.shape[2], X_train.shape[3], 1)\n",
        "X_test = X_test.reshape(X_test.shape[0], X_test.shape[1] , X_test.shape[2], X_test.shape[3], 1)"
      ]
    },
    {
      "cell_type": "code",
      "source": [
        "# for i in X_train:\n",
        "  # print(i.shape)"
      ],
      "metadata": {
        "id": "sDppjJKkRfED"
      },
      "execution_count": 8,
      "outputs": []
    },
    {
      "cell_type": "code",
      "execution_count": 9,
      "metadata": {
        "id": "0fyvNke_Pj2h",
        "colab": {
          "base_uri": "https://localhost:8080/"
        },
        "outputId": "12b6c1ba-4e01-45ae-fbd8-a150d12cae6a"
      },
      "outputs": [
        {
          "output_type": "execute_result",
          "data": {
            "text/plain": [
              "(5, 128, 128, 1)"
            ]
          },
          "metadata": {},
          "execution_count": 9
        }
      ],
      "source": [
        "X_train.shape[1:]"
      ]
    },
    {
      "cell_type": "code",
      "execution_count": 10,
      "metadata": {
        "id": "Sm5fGHFCuX_Y",
        "colab": {
          "base_uri": "https://localhost:8080/"
        },
        "outputId": "d9e51633-db87-4307-d10f-c091e4daf469"
      },
      "outputs": [
        {
          "output_type": "stream",
          "name": "stdout",
          "text": [
            "Model: \"model\"\n",
            "_________________________________________________________________\n",
            " Layer (type)                Output Shape              Param #   \n",
            "=================================================================\n",
            " Input_MELSPECT (InputLayer)  [(None, 5, 128, 128, 1)]  0        \n",
            "                                                                 \n",
            " Conv_1_MELSPECT (TimeDistri  (None, 5, 128, 128, 64)  640       \n",
            " buted)                                                          \n",
            "                                                                 \n",
            " BatchNorm_1_MELSPECT (TimeD  (None, 5, 128, 128, 64)  256       \n",
            " istributed)                                                     \n",
            "                                                                 \n",
            " Activ_1_MELSPECT (TimeDistr  (None, 5, 128, 128, 64)  0         \n",
            " ibuted)                                                         \n",
            "                                                                 \n",
            " MaxPool_1_MELSPECT (TimeDis  (None, 5, 64, 64, 64)    0         \n",
            " tributed)                                                       \n",
            "                                                                 \n",
            " Drop_1_MELSPECT (TimeDistri  (None, 5, 64, 64, 64)    0         \n",
            " buted)                                                          \n",
            "                                                                 \n",
            " Conv_2_MELSPECT (TimeDistri  (None, 5, 64, 64, 64)    36928     \n",
            " buted)                                                          \n",
            "                                                                 \n",
            " BatchNorm_2_MELSPECT (TimeD  (None, 5, 64, 64, 64)    256       \n",
            " istributed)                                                     \n",
            "                                                                 \n",
            " Activ_2_MELSPECT (TimeDistr  (None, 5, 64, 64, 64)    0         \n",
            " ibuted)                                                         \n",
            "                                                                 \n",
            " MaxPool_2_MELSPECT (TimeDis  (None, 5, 16, 16, 64)    0         \n",
            " tributed)                                                       \n",
            "                                                                 \n",
            " Drop_2_MELSPECT (TimeDistri  (None, 5, 16, 16, 64)    0         \n",
            " buted)                                                          \n",
            "                                                                 \n",
            " Conv_3_MELSPECT (TimeDistri  (None, 5, 16, 16, 128)   73856     \n",
            " buted)                                                          \n",
            "                                                                 \n",
            " BatchNorm_3_MELSPECT (TimeD  (None, 5, 16, 16, 128)   512       \n",
            " istributed)                                                     \n",
            "                                                                 \n",
            " Activ_3_MELSPECT (TimeDistr  (None, 5, 16, 16, 128)   0         \n",
            " ibuted)                                                         \n",
            "                                                                 \n",
            " MaxPool_3_MELSPECT (TimeDis  (None, 5, 4, 4, 128)     0         \n",
            " tributed)                                                       \n",
            "                                                                 \n",
            " Drop_3_MELSPECT (TimeDistri  (None, 5, 4, 4, 128)     0         \n",
            " buted)                                                          \n",
            "                                                                 \n",
            " Conv_4_MELSPECT (TimeDistri  (None, 5, 4, 4, 128)     147584    \n",
            " buted)                                                          \n",
            "                                                                 \n",
            " BatchNorm_4_MELSPECT (TimeD  (None, 5, 4, 4, 128)     512       \n",
            " istributed)                                                     \n",
            "                                                                 \n",
            " Activ_4_MELSPECT (TimeDistr  (None, 5, 4, 4, 128)     0         \n",
            " ibuted)                                                         \n",
            "                                                                 \n",
            " MaxPool_4_MELSPECT (TimeDis  (None, 5, 1, 1, 128)     0         \n",
            " tributed)                                                       \n",
            "                                                                 \n",
            " Drop_4_MELSPECT (TimeDistri  (None, 5, 1, 1, 128)     0         \n",
            " buted)                                                          \n",
            "                                                                 \n",
            " Flat_MELSPECT (TimeDistribu  (None, 5, 128)           0         \n",
            " ted)                                                            \n",
            "                                                                 \n",
            " LSTM_1 (LSTM)               (None, 256)               394240    \n",
            "                                                                 \n",
            " FC (Dense)                  (None, 7)                 1799      \n",
            "                                                                 \n",
            "=================================================================\n",
            "Total params: 656,583\n",
            "Trainable params: 655,815\n",
            "Non-trainable params: 768\n",
            "_________________________________________________________________\n"
          ]
        }
      ],
      "source": [
        "K.clear_session()\n",
        "\n",
        "input_y = Input(shape=X_train.shape[1:], name='Input_MELSPECT')\n",
        "\n",
        "y = TimeDistributed(Conv2D(64, kernel_size=(3, 3), padding='same'), name='Conv_1_MELSPECT')(input_y)\n",
        "y = TimeDistributed(BatchNormalization(), name='BatchNorm_1_MELSPECT')(y)\n",
        "y = TimeDistributed(Activation('elu'), name='Activ_1_MELSPECT')(y)\n",
        "y = TimeDistributed(MaxPooling2D(pool_size=(2, 2), strides=(2, 2), padding='same'), name='MaxPool_1_MELSPECT')(y)\n",
        "y = TimeDistributed(Dropout(0.2), name='Drop_1_MELSPECT')(y)     \n",
        "\n",
        "y = TimeDistributed(Conv2D(64, kernel_size=(3, 3), strides=(1, 1), padding='same'), name='Conv_2_MELSPECT')(y)\n",
        "y = TimeDistributed(BatchNormalization(), name='BatchNorm_2_MELSPECT')(y)\n",
        "y = TimeDistributed(Activation('elu'), name='Activ_2_MELSPECT')(y)\n",
        "y = TimeDistributed(MaxPooling2D(pool_size=(4, 4), strides=(4, 4), padding='same'), name='MaxPool_2_MELSPECT')(y)\n",
        "y = TimeDistributed(Dropout(0.2), name='Drop_2_MELSPECT')(y)\n",
        "\n",
        "y = TimeDistributed(Conv2D(128, kernel_size=(3, 3), strides=(1, 1), padding='same'), name='Conv_3_MELSPECT')(y)\n",
        "y = TimeDistributed(BatchNormalization(), name='BatchNorm_3_MELSPECT')(y)\n",
        "y = TimeDistributed(Activation('elu'), name='Activ_3_MELSPECT')(y)\n",
        "y = TimeDistributed(MaxPooling2D(pool_size=(4, 4), strides=(4, 4), padding='same'), name='MaxPool_3_MELSPECT')(y)\n",
        "y = TimeDistributed(Dropout(0.2), name='Drop_3_MELSPECT')(y)\n",
        "\n",
        "y = TimeDistributed(Conv2D(128, kernel_size=(3, 3), strides=(1, 1), padding='same'), name='Conv_4_MELSPECT')(y)\n",
        "y = TimeDistributed(BatchNormalization(), name='BatchNorm_4_MELSPECT')(y)\n",
        "y = TimeDistributed(Activation('elu'), name='Activ_4_MELSPECT')(y)\n",
        "y = TimeDistributed(MaxPooling2D(pool_size=(4, 4), strides=(4, 4), padding='same'), name='MaxPool_4_MELSPECT')(y)\n",
        "y = TimeDistributed(Dropout(0.2), name='Drop_4_MELSPECT')(y)  \n",
        "\n",
        "y = TimeDistributed(Flatten(), name='Flat_MELSPECT')(y)                                           \n",
        "# Apply 2 LSTM layer and one FC\n",
        "y = LSTM(256, return_sequences=False, dropout=0.2, name='LSTM_1')(y)\n",
        "y = Dense(y_train.shape[1], activation='softmax', name='FC')(y)\n",
        "\n",
        "# Build final model\n",
        "model = Model(inputs=input_y, outputs=y)\n",
        "model.summary()"
      ]
    },
    {
      "cell_type": "code",
      "execution_count": 11,
      "metadata": {
        "colab": {
          "base_uri": "https://localhost:8080/"
        },
        "id": "ZCcXYIPQub35",
        "outputId": "8753dbd2-7e9a-49f6-a993-40c97fa2d687"
      },
      "outputs": [
        {
          "output_type": "stream",
          "name": "stdout",
          "text": [
            "Epoch 1/100\n",
            "51/51 [==============================] - 59s 858ms/step - loss: 1.9436 - accuracy: 0.1764 - val_loss: 2.3105 - val_accuracy: 0.1375\n",
            "Epoch 2/100\n",
            "51/51 [==============================] - 42s 824ms/step - loss: 1.8664 - accuracy: 0.2161 - val_loss: 2.3047 - val_accuracy: 0.1425\n",
            "Epoch 3/100\n",
            "51/51 [==============================] - 40s 777ms/step - loss: 1.7670 - accuracy: 0.2887 - val_loss: 1.9371 - val_accuracy: 0.2379\n",
            "Epoch 4/100\n",
            "51/51 [==============================] - 40s 777ms/step - loss: 1.7162 - accuracy: 0.3082 - val_loss: 1.7739 - val_accuracy: 0.3259\n",
            "Epoch 5/100\n",
            "51/51 [==============================] - 40s 777ms/step - loss: 1.6508 - accuracy: 0.3343 - val_loss: 1.7644 - val_accuracy: 0.3631\n",
            "Epoch 6/100\n",
            "51/51 [==============================] - 39s 770ms/step - loss: 1.6051 - accuracy: 0.3563 - val_loss: 1.8173 - val_accuracy: 0.3333\n",
            "Epoch 7/100\n",
            "51/51 [==============================] - 40s 778ms/step - loss: 1.5799 - accuracy: 0.3662 - val_loss: 1.6396 - val_accuracy: 0.3804\n",
            "Epoch 8/100\n",
            "51/51 [==============================] - 39s 769ms/step - loss: 1.5553 - accuracy: 0.3811 - val_loss: 1.6878 - val_accuracy: 0.3643\n",
            "Epoch 9/100\n",
            "51/51 [==============================] - 40s 777ms/step - loss: 1.5328 - accuracy: 0.3972 - val_loss: 1.6626 - val_accuracy: 0.4040\n",
            "Epoch 10/100\n",
            "51/51 [==============================] - 39s 769ms/step - loss: 1.5001 - accuracy: 0.3907 - val_loss: 1.6377 - val_accuracy: 0.3371\n",
            "Epoch 11/100\n",
            "51/51 [==============================] - 39s 770ms/step - loss: 1.4806 - accuracy: 0.4118 - val_loss: 1.5427 - val_accuracy: 0.3817\n",
            "Epoch 12/100\n",
            "51/51 [==============================] - 39s 769ms/step - loss: 1.4335 - accuracy: 0.4301 - val_loss: 1.7957 - val_accuracy: 0.3259\n",
            "Epoch 13/100\n",
            "51/51 [==============================] - 40s 777ms/step - loss: 1.4322 - accuracy: 0.4313 - val_loss: 1.4716 - val_accuracy: 0.4312\n",
            "Epoch 14/100\n",
            "51/51 [==============================] - 40s 776ms/step - loss: 1.4047 - accuracy: 0.4484 - val_loss: 1.3988 - val_accuracy: 0.4808\n",
            "Epoch 15/100\n",
            "51/51 [==============================] - 39s 769ms/step - loss: 1.3809 - accuracy: 0.4552 - val_loss: 1.4559 - val_accuracy: 0.4213\n",
            "Epoch 16/100\n",
            "51/51 [==============================] - 39s 770ms/step - loss: 1.3775 - accuracy: 0.4598 - val_loss: 1.6205 - val_accuracy: 0.3928\n",
            "Epoch 17/100\n",
            "51/51 [==============================] - 39s 769ms/step - loss: 1.3517 - accuracy: 0.4726 - val_loss: 1.5906 - val_accuracy: 0.3879\n",
            "Epoch 18/100\n",
            "51/51 [==============================] - 40s 777ms/step - loss: 1.3308 - accuracy: 0.4816 - val_loss: 1.3686 - val_accuracy: 0.5192\n",
            "Epoch 19/100\n",
            "51/51 [==============================] - 39s 770ms/step - loss: 1.3077 - accuracy: 0.4912 - val_loss: 1.3499 - val_accuracy: 0.4845\n",
            "Epoch 20/100\n",
            "51/51 [==============================] - 39s 770ms/step - loss: 1.2788 - accuracy: 0.4995 - val_loss: 1.6369 - val_accuracy: 0.3829\n",
            "Epoch 21/100\n",
            "51/51 [==============================] - 39s 770ms/step - loss: 1.2776 - accuracy: 0.5048 - val_loss: 1.6476 - val_accuracy: 0.4250\n",
            "Epoch 22/100\n",
            "51/51 [==============================] - 39s 769ms/step - loss: 1.2631 - accuracy: 0.5088 - val_loss: 1.7727 - val_accuracy: 0.3854\n",
            "Epoch 23/100\n",
            "51/51 [==============================] - 39s 770ms/step - loss: 1.2537 - accuracy: 0.5129 - val_loss: 1.3051 - val_accuracy: 0.5167\n",
            "Epoch 24/100\n",
            "51/51 [==============================] - 39s 770ms/step - loss: 1.2289 - accuracy: 0.5181 - val_loss: 1.8685 - val_accuracy: 0.4238\n",
            "Epoch 25/100\n",
            "51/51 [==============================] - 42s 819ms/step - loss: 1.2149 - accuracy: 0.5321 - val_loss: 1.5677 - val_accuracy: 0.4647\n",
            "Epoch 26/100\n",
            "51/51 [==============================] - 40s 776ms/step - loss: 1.1813 - accuracy: 0.5557 - val_loss: 1.3140 - val_accuracy: 0.5675\n",
            "Epoch 27/100\n",
            "51/51 [==============================] - 39s 770ms/step - loss: 1.1623 - accuracy: 0.5578 - val_loss: 3.0462 - val_accuracy: 0.2230\n",
            "Epoch 28/100\n",
            "51/51 [==============================] - 39s 769ms/step - loss: 1.1769 - accuracy: 0.5423 - val_loss: 1.6025 - val_accuracy: 0.4523\n",
            "Epoch 29/100\n",
            "51/51 [==============================] - 39s 770ms/step - loss: 1.1335 - accuracy: 0.5650 - val_loss: 1.9153 - val_accuracy: 0.4213\n",
            "Epoch 30/100\n",
            "51/51 [==============================] - 39s 773ms/step - loss: 1.1180 - accuracy: 0.5724 - val_loss: 1.3244 - val_accuracy: 0.5204\n",
            "Epoch 31/100\n",
            "51/51 [==============================] - 40s 777ms/step - loss: 1.1257 - accuracy: 0.5690 - val_loss: 1.2260 - val_accuracy: 0.5886\n",
            "Epoch 32/100\n",
            "51/51 [==============================] - 39s 769ms/step - loss: 1.0950 - accuracy: 0.5746 - val_loss: 1.5361 - val_accuracy: 0.4337\n",
            "Epoch 33/100\n",
            "51/51 [==============================] - 39s 770ms/step - loss: 1.0613 - accuracy: 0.5814 - val_loss: 1.4027 - val_accuracy: 0.5279\n",
            "Epoch 34/100\n",
            "51/51 [==============================] - 39s 770ms/step - loss: 1.0548 - accuracy: 0.5913 - val_loss: 1.5658 - val_accuracy: 0.4696\n",
            "Epoch 35/100\n",
            "51/51 [==============================] - 39s 769ms/step - loss: 1.0469 - accuracy: 0.5963 - val_loss: 1.8098 - val_accuracy: 0.4263\n",
            "Epoch 36/100\n",
            "51/51 [==============================] - 39s 770ms/step - loss: 1.0137 - accuracy: 0.6093 - val_loss: 1.2234 - val_accuracy: 0.5774\n",
            "Epoch 37/100\n",
            "51/51 [==============================] - 40s 777ms/step - loss: 1.0040 - accuracy: 0.6115 - val_loss: 1.1369 - val_accuracy: 0.5998\n",
            "Epoch 38/100\n",
            "51/51 [==============================] - 39s 770ms/step - loss: 0.9906 - accuracy: 0.6245 - val_loss: 1.9430 - val_accuracy: 0.4486\n",
            "Epoch 39/100\n",
            "51/51 [==============================] - 39s 770ms/step - loss: 0.9687 - accuracy: 0.6211 - val_loss: 1.3256 - val_accuracy: 0.5589\n",
            "Epoch 40/100\n",
            "51/51 [==============================] - 40s 776ms/step - loss: 0.9715 - accuracy: 0.6264 - val_loss: 1.1353 - val_accuracy: 0.6047\n",
            "Epoch 41/100\n",
            "51/51 [==============================] - 40s 779ms/step - loss: 0.9362 - accuracy: 0.6394 - val_loss: 1.0396 - val_accuracy: 0.6357\n",
            "Epoch 42/100\n",
            "51/51 [==============================] - 39s 770ms/step - loss: 0.9286 - accuracy: 0.6549 - val_loss: 1.3318 - val_accuracy: 0.5428\n",
            "Epoch 43/100\n",
            "51/51 [==============================] - 39s 770ms/step - loss: 0.9264 - accuracy: 0.6481 - val_loss: 1.6574 - val_accuracy: 0.4882\n",
            "Epoch 44/100\n",
            "51/51 [==============================] - 39s 770ms/step - loss: 0.8753 - accuracy: 0.6701 - val_loss: 1.0161 - val_accuracy: 0.6357\n",
            "Epoch 45/100\n",
            "51/51 [==============================] - 39s 770ms/step - loss: 0.8618 - accuracy: 0.6667 - val_loss: 1.3182 - val_accuracy: 0.5589\n",
            "Epoch 46/100\n",
            "51/51 [==============================] - 39s 771ms/step - loss: 0.8642 - accuracy: 0.6747 - val_loss: 1.0521 - val_accuracy: 0.6357\n",
            "Epoch 47/100\n",
            "51/51 [==============================] - 39s 769ms/step - loss: 0.8484 - accuracy: 0.6766 - val_loss: 1.4351 - val_accuracy: 0.5564\n",
            "Epoch 48/100\n",
            "51/51 [==============================] - 39s 770ms/step - loss: 0.8359 - accuracy: 0.6902 - val_loss: 1.0513 - val_accuracy: 0.6146\n",
            "Epoch 49/100\n",
            "51/51 [==============================] - 39s 770ms/step - loss: 0.8259 - accuracy: 0.6884 - val_loss: 1.6548 - val_accuracy: 0.4994\n",
            "Epoch 50/100\n",
            "51/51 [==============================] - 40s 777ms/step - loss: 0.8194 - accuracy: 0.6850 - val_loss: 0.8962 - val_accuracy: 0.6629\n",
            "Epoch 51/100\n",
            "51/51 [==============================] - 39s 769ms/step - loss: 0.7837 - accuracy: 0.7045 - val_loss: 1.4813 - val_accuracy: 0.5415\n",
            "Epoch 52/100\n",
            "51/51 [==============================] - 39s 769ms/step - loss: 0.7949 - accuracy: 0.6961 - val_loss: 1.4015 - val_accuracy: 0.4870\n",
            "Epoch 53/100\n",
            "51/51 [==============================] - 39s 770ms/step - loss: 0.7902 - accuracy: 0.6909 - val_loss: 3.3679 - val_accuracy: 0.2243\n",
            "Epoch 54/100\n",
            "51/51 [==============================] - 39s 770ms/step - loss: 0.7501 - accuracy: 0.7200 - val_loss: 1.4949 - val_accuracy: 0.5415\n",
            "Epoch 55/100\n",
            "51/51 [==============================] - 39s 770ms/step - loss: 0.7418 - accuracy: 0.7160 - val_loss: 0.9346 - val_accuracy: 0.6580\n",
            "Epoch 56/100\n",
            "51/51 [==============================] - 39s 770ms/step - loss: 0.7288 - accuracy: 0.7209 - val_loss: 1.6463 - val_accuracy: 0.5192\n",
            "Epoch 57/100\n",
            "51/51 [==============================] - 39s 769ms/step - loss: 0.7298 - accuracy: 0.7228 - val_loss: 1.7990 - val_accuracy: 0.4833\n",
            "Epoch 58/100\n",
            "51/51 [==============================] - 39s 769ms/step - loss: 0.6914 - accuracy: 0.7358 - val_loss: 1.8077 - val_accuracy: 0.4796\n",
            "Epoch 59/100\n",
            "51/51 [==============================] - 39s 769ms/step - loss: 0.6932 - accuracy: 0.7408 - val_loss: 1.1608 - val_accuracy: 0.6369\n",
            "Epoch 60/100\n",
            "51/51 [==============================] - 39s 769ms/step - loss: 0.6754 - accuracy: 0.7398 - val_loss: 0.9847 - val_accuracy: 0.6568\n",
            "Epoch 61/100\n",
            "51/51 [==============================] - 39s 770ms/step - loss: 0.6682 - accuracy: 0.7439 - val_loss: 2.4073 - val_accuracy: 0.4362\n",
            "Epoch 62/100\n",
            "51/51 [==============================] - 39s 769ms/step - loss: 0.6737 - accuracy: 0.7445 - val_loss: 1.0219 - val_accuracy: 0.6580\n",
            "Epoch 63/100\n",
            "51/51 [==============================] - 40s 776ms/step - loss: 0.6616 - accuracy: 0.7504 - val_loss: 0.8573 - val_accuracy: 0.6914\n",
            "Epoch 64/100\n",
            "51/51 [==============================] - 40s 776ms/step - loss: 0.6634 - accuracy: 0.7522 - val_loss: 0.8003 - val_accuracy: 0.7212\n",
            "Epoch 65/100\n",
            "51/51 [==============================] - 39s 769ms/step - loss: 0.6211 - accuracy: 0.7594 - val_loss: 1.4972 - val_accuracy: 0.5279\n",
            "Epoch 66/100\n",
            "51/51 [==============================] - 39s 769ms/step - loss: 0.6263 - accuracy: 0.7647 - val_loss: 1.1583 - val_accuracy: 0.6506\n",
            "Epoch 67/100\n",
            "51/51 [==============================] - 39s 769ms/step - loss: 0.6133 - accuracy: 0.7743 - val_loss: 1.0063 - val_accuracy: 0.6840\n",
            "Epoch 68/100\n",
            "51/51 [==============================] - 39s 770ms/step - loss: 0.5900 - accuracy: 0.7771 - val_loss: 1.1132 - val_accuracy: 0.6047\n",
            "Epoch 69/100\n",
            "51/51 [==============================] - 39s 769ms/step - loss: 0.5756 - accuracy: 0.7867 - val_loss: 1.4215 - val_accuracy: 0.5898\n",
            "Epoch 70/100\n",
            "51/51 [==============================] - 39s 770ms/step - loss: 0.5802 - accuracy: 0.7780 - val_loss: 1.1833 - val_accuracy: 0.6295\n",
            "Epoch 71/100\n",
            "51/51 [==============================] - 42s 818ms/step - loss: 0.5728 - accuracy: 0.7733 - val_loss: 0.8864 - val_accuracy: 0.6939\n",
            "Epoch 72/100\n",
            "51/51 [==============================] - 39s 769ms/step - loss: 0.5525 - accuracy: 0.7963 - val_loss: 2.0690 - val_accuracy: 0.4672\n",
            "Epoch 73/100\n",
            "51/51 [==============================] - 39s 769ms/step - loss: 0.5654 - accuracy: 0.7910 - val_loss: 1.4563 - val_accuracy: 0.5428\n",
            "Epoch 74/100\n",
            "51/51 [==============================] - 40s 777ms/step - loss: 0.5276 - accuracy: 0.7991 - val_loss: 0.9151 - val_accuracy: 0.7361\n",
            "Epoch 75/100\n",
            "51/51 [==============================] - 39s 770ms/step - loss: 0.5214 - accuracy: 0.8012 - val_loss: 1.1914 - val_accuracy: 0.6543\n",
            "Epoch 76/100\n",
            "51/51 [==============================] - 39s 770ms/step - loss: 0.5142 - accuracy: 0.8000 - val_loss: 1.4460 - val_accuracy: 0.5898\n",
            "Epoch 77/100\n",
            "51/51 [==============================] - 39s 770ms/step - loss: 0.4873 - accuracy: 0.8220 - val_loss: 1.1301 - val_accuracy: 0.6468\n",
            "Epoch 78/100\n",
            "51/51 [==============================] - 39s 770ms/step - loss: 0.4941 - accuracy: 0.8146 - val_loss: 1.4206 - val_accuracy: 0.5787\n",
            "Epoch 79/100\n",
            "51/51 [==============================] - 39s 770ms/step - loss: 0.4781 - accuracy: 0.8220 - val_loss: 0.9230 - val_accuracy: 0.7063\n",
            "Epoch 80/100\n",
            "51/51 [==============================] - 39s 769ms/step - loss: 0.4853 - accuracy: 0.8177 - val_loss: 1.7188 - val_accuracy: 0.5378\n",
            "Epoch 81/100\n",
            "51/51 [==============================] - 39s 769ms/step - loss: 0.4791 - accuracy: 0.8186 - val_loss: 0.9950 - val_accuracy: 0.7038\n",
            "Epoch 82/100\n",
            "51/51 [==============================] - 39s 769ms/step - loss: 0.4453 - accuracy: 0.8381 - val_loss: 1.3797 - val_accuracy: 0.6022\n",
            "Epoch 83/100\n",
            "51/51 [==============================] - 39s 770ms/step - loss: 0.4576 - accuracy: 0.8295 - val_loss: 0.7347 - val_accuracy: 0.7348\n",
            "Epoch 84/100\n",
            "51/51 [==============================] - 39s 770ms/step - loss: 0.4374 - accuracy: 0.8316 - val_loss: 0.7582 - val_accuracy: 0.7361\n",
            "Epoch 85/100\n",
            "51/51 [==============================] - 39s 769ms/step - loss: 0.4178 - accuracy: 0.8474 - val_loss: 0.9325 - val_accuracy: 0.7125\n",
            "Epoch 86/100\n",
            "51/51 [==============================] - 39s 769ms/step - loss: 0.3999 - accuracy: 0.8505 - val_loss: 1.5136 - val_accuracy: 0.5700\n",
            "Epoch 87/100\n",
            "51/51 [==============================] - 39s 770ms/step - loss: 0.4219 - accuracy: 0.8419 - val_loss: 1.2577 - val_accuracy: 0.6208\n",
            "Epoch 88/100\n",
            "51/51 [==============================] - 39s 770ms/step - loss: 0.3896 - accuracy: 0.8561 - val_loss: 1.2934 - val_accuracy: 0.6047\n",
            "Epoch 89/100\n",
            "51/51 [==============================] - 39s 769ms/step - loss: 0.3726 - accuracy: 0.8626 - val_loss: 1.0509 - val_accuracy: 0.7026\n",
            "Epoch 90/100\n",
            "51/51 [==============================] - 42s 818ms/step - loss: 0.3604 - accuracy: 0.8664 - val_loss: 1.1118 - val_accuracy: 0.6258\n",
            "Epoch 91/100\n",
            "51/51 [==============================] - 40s 778ms/step - loss: 0.3777 - accuracy: 0.8614 - val_loss: 0.9119 - val_accuracy: 0.7435\n",
            "Epoch 92/100\n",
            "51/51 [==============================] - 39s 770ms/step - loss: 0.3582 - accuracy: 0.8695 - val_loss: 0.8793 - val_accuracy: 0.7286\n",
            "Epoch 93/100\n",
            "51/51 [==============================] - 39s 770ms/step - loss: 0.3336 - accuracy: 0.8834 - val_loss: 2.0704 - val_accuracy: 0.5118\n",
            "Epoch 94/100\n",
            "51/51 [==============================] - 39s 770ms/step - loss: 0.3515 - accuracy: 0.8716 - val_loss: 3.0017 - val_accuracy: 0.4176\n",
            "Epoch 95/100\n",
            "51/51 [==============================] - 39s 769ms/step - loss: 0.3486 - accuracy: 0.8695 - val_loss: 1.1778 - val_accuracy: 0.6121\n",
            "Epoch 96/100\n",
            "51/51 [==============================] - 39s 769ms/step - loss: 0.3352 - accuracy: 0.8784 - val_loss: 1.1290 - val_accuracy: 0.6902\n",
            "Epoch 97/100\n",
            "51/51 [==============================] - 39s 769ms/step - loss: 0.3205 - accuracy: 0.8831 - val_loss: 1.1184 - val_accuracy: 0.6840\n",
            "Epoch 98/100\n",
            "51/51 [==============================] - 39s 769ms/step - loss: 0.3270 - accuracy: 0.8781 - val_loss: 0.9386 - val_accuracy: 0.7224\n",
            "Epoch 99/100\n",
            "51/51 [==============================] - 39s 769ms/step - loss: 0.3117 - accuracy: 0.8899 - val_loss: 2.4825 - val_accuracy: 0.4734\n",
            "Epoch 100/100\n",
            "51/51 [==============================] - 39s 769ms/step - loss: 0.3044 - accuracy: 0.8856 - val_loss: 1.5712 - val_accuracy: 0.5874\n"
          ]
        }
      ],
      "source": [
        "# Compile model\n",
        "model.compile(optimizer=SGD(lr=0.01, decay=1e-6, momentum=0.8), loss='categorical_crossentropy', metrics=['accuracy'])\n",
        "\n",
        "# Save best model\n",
        "best_model_save = ModelCheckpoint('drive/My Drive/FYP/Pickle/CNN_LSTM_Model_gammatrone.hdf5', save_best_only=True, monitor='val_accuracy', mode='max')\n",
        "\n",
        "# Early stopping\n",
        "early_stopping = EarlyStopping(monitor='val_accuracy', patience=30, verbose=1, mode='max')\n",
        "\n",
        "# Fit model\n",
        "history = model.fit(X_train, y_train, batch_size=64, epochs=100, validation_data=(X_test, y_test), callbacks=[early_stopping, best_model_save,tf.keras.callbacks.CSVLogger('drive/My Drive/FYP/Pickle/source_history.csv')])"
      ]
    },
    {
      "cell_type": "code",
      "execution_count": 12,
      "metadata": {
        "id": "P0O7q1GnUyr8",
        "colab": {
          "base_uri": "https://localhost:8080/"
        },
        "outputId": "6397b4b0-7656-4efa-9104-98cf774d6a5b"
      },
      "outputs": [
        {
          "output_type": "stream",
          "name": "stdout",
          "text": [
            "26/26 [==============================] - 4s 120ms/step - loss: 1.5712 - accuracy: 0.5874\n"
          ]
        },
        {
          "output_type": "execute_result",
          "data": {
            "text/plain": [
              "[1.5711772441864014, 0.5873606204986572]"
            ]
          },
          "metadata": {},
          "execution_count": 12
        }
      ],
      "source": [
        "model.evaluate(X_test,y_test)"
      ]
    },
    {
      "cell_type": "code",
      "execution_count": 13,
      "metadata": {
        "id": "a2z59hZsuiPq"
      },
      "outputs": [],
      "source": [
        "y_pred=model.predict(X_test)\n",
        "y_classes = y_pred.argmax(axis=-1)"
      ]
    },
    {
      "cell_type": "code",
      "source": [
        "np.unique(y_classes)"
      ],
      "metadata": {
        "id": "pHFVtFd4dtfi",
        "colab": {
          "base_uri": "https://localhost:8080/"
        },
        "outputId": "ac26b550-576b-4f7f-a0e4-60cef4abe449"
      },
      "execution_count": 14,
      "outputs": [
        {
          "output_type": "execute_result",
          "data": {
            "text/plain": [
              "array([0, 1, 2, 3, 4, 5, 6])"
            ]
          },
          "metadata": {},
          "execution_count": 14
        }
      ]
    },
    {
      "cell_type": "code",
      "source": [
        "# my_dict={}"
      ],
      "metadata": {
        "id": "5BAUqd64e3wi"
      },
      "execution_count": 15,
      "outputs": []
    },
    {
      "cell_type": "code",
      "source": [
        "# np.vectorize(my_dict.get)(a)"
      ],
      "metadata": {
        "id": "HYNpByIle2xc"
      },
      "execution_count": 19,
      "outputs": []
    },
    {
      "cell_type": "code",
      "execution_count": 17,
      "metadata": {
        "id": "DQ4Z89mUUHbK"
      },
      "outputs": [],
      "source": [
        "model.save('drive/My Drive/FYP/Pickle/[CNN-LSTM][gamm]M.h5')\n",
        "model.save_weights('drive/My Drive/FYP/Pickle/[CNN-LSTM][gamm]W.h5')"
      ]
    },
    {
      "cell_type": "code",
      "source": [
        "# unaugmented_model = tf.keras.models.load_model('/content/drive/MyDrive/Pickle/unaugmented[CNN-LSTM]M.h5')\n",
        "# unaugmented_model.load_weights('/content/drive/MyDrive/Pickle/unaugmented[CNN-LSTM]M.h5')"
      ],
      "metadata": {
        "id": "nSoeSeXT_CIy"
      },
      "execution_count": null,
      "outputs": []
    },
    {
      "cell_type": "code",
      "source": [
        "# loss, acc = new_model.evaluate(x_test, y_test, verbose=0)\n",
        "# print(f\"test accuracy {acc*100}\")"
      ],
      "metadata": {
        "id": "XopXJMH3A1Aj"
      },
      "execution_count": null,
      "outputs": []
    },
    {
      "cell_type": "code",
      "execution_count": 18,
      "metadata": {
        "id": "AfNGD0f1fLdd",
        "colab": {
          "base_uri": "https://localhost:8080/",
          "height": 628
        },
        "outputId": "df9e882c-81ec-448b-8754-e2bc768a6e9b"
      },
      "outputs": [
        {
          "output_type": "execute_result",
          "data": {
            "text/plain": [
              "Text(0, 0.5, 'Accuracy')"
            ]
          },
          "metadata": {},
          "execution_count": 18
        },
        {
          "output_type": "display_data",
          "data": {
            "text/plain": [
              "<Figure size 1800x720 with 1 Axes>"
            ],
            "image/png": "[encoded data removed]"
          },
          "metadata": {
            "needs_background": "light"
          }
        }
      ],
      "source": [
        "plt.figure(figsize=(25,10))\n",
        "plt.subplot(1,2,1)\n",
        "plt.plot(history.history['accuracy'],'-b')\n",
        "plt.plot(history.history['val_accuracy'],'r')\n",
        "plt.legend(['Training accuracy','Validation accuracy'])\n",
        "plt.axis([0, 100, 0, 1])\n",
        "plt.xlabel('Epochs')\n",
        "plt.ylabel('Accuracy')\n",
        "\n"
      ]
    },
    {
      "cell_type": "code",
      "source": [
        ""
      ],
      "metadata": {
        "id": "KZE0ZkCA-C5p"
      },
      "execution_count": null,
      "outputs": []
    }
  ],
  "metadata": {
    "accelerator": "GPU",
    "colab": {
      "name": "gfcc_Model.ipynb",
      "provenance": [],
      "collapsed_sections": [],
      "include_colab_link": true
    },
    "kernelspec": {
      "display_name": "Python 3",
      "name": "python3"
    },
    "language_info": {
      "name": "python"
    }
  },
  "nbformat": 4,
  "nbformat_minor": 0
}