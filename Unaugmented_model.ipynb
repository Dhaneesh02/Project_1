{
  "cells": [
    {
      "cell_type": "markdown",
      "metadata": {
        "id": "view-in-github",
        "colab_type": "text"
      },
      "source": [
        "<a href=\"https://colab.research.google.com/github/Dhaneesh02/Project_1/blob/unaugmented/Unaugmented_model.ipynb\" target=\"_parent\"><img src=\"https://colab.research.google.com/assets/colab-badge.svg\" alt=\"Open In Colab\"/></a>"
      ]
    },
    {
      "cell_type": "code",
      "execution_count": null,
      "metadata": {
        "id": "i8FR_AIhs4qd"
      },
      "outputs": [],
      "source": [
        "\n",
        "import pickle\n",
        "import numpy as np\n",
        "\n",
        "from IPython.display import Image\n",
        "import matplotlib.pyplot as plt\n",
        "\n",
        "import tensorflow as tf\n",
        "from tensorflow.keras.models import Model\n",
        "from tensorflow.keras.layers import Input, Dense, Dropout, Activation, TimeDistributed, concatenate\n",
        "from tensorflow.keras.layers import Conv2D, MaxPooling2D, BatchNormalization, Flatten\n",
        "from tensorflow.keras.layers import LSTM\n",
        "from tensorflow.keras.optimizers import SGD\n",
        "from tensorflow.keras.callbacks import EarlyStopping, ModelCheckpoint\n",
        "from tensorflow.keras import backend as K\n",
        "from keras.utils import np_utils\n",
        "from keras.utils.vis_utils import plot_model\n",
        "from sklearn.preprocessing import LabelEncoder\n",
        "\n",
        "### Warning ###\n",
        "import warnings\n",
        "warnings.filterwarnings('ignore') ``"
      ]
    },
    {
      "cell_type": "code",
      "execution_count": null,
      "metadata": {
        "colab": {
          "base_uri": "https://localhost:8080/"
        },
        "id": "lkZXrJJFs6Co",
        "outputId": "131597ec-99d3-48bc-df90-1a4ed4f5f9b8"
      },
      "outputs": [
        {
          "output_type": "stream",
          "name": "stdout",
          "text": [
            "Mounted at /content/drive\n"
          ]
        }
      ],
      "source": [
        "from google.colab import drive\n",
        "drive.mount('/content/drive')"
      ]
    },
    {
      "cell_type": "code",
      "execution_count": null,
      "metadata": {
        "id": "hqD7qk4ms6hQ"
      },
      "outputs": [],
      "source": [
        "X_train = pickle.load(open('drive/My Drive/FYP/Pickle/unaugmented_[RAVDESS][MEL_SPECT][X_train].p', 'rb'))\n",
        "y_train = pickle.load(open('drive/My Drive/FYP/Pickle/unaugmented_[RAVDESS][MEL_SPECT][y_train].p', 'rb'))\n",
        "y_test = pickle.load(open('drive/My Drive/FYP/Pickle/unaugmented_[RAVDESS][MEL_SPECT][y_test].p', 'rb'))\n",
        "X_test = pickle.load(open('drive/My Drive/FYP/Pickle/unaugmented_[RAVDESS][MEL_SPECT][X_test].p', 'rb'))"
      ]
    },
    {
      "cell_type": "code",
      "execution_count": null,
      "metadata": {
        "id": "q_3QiW-aDVPX"
      },
      "outputs": [],
      "source": [
        ""
      ]
    },
    {
      "cell_type": "code",
      "execution_count": null,
      "metadata": {
        "colab": {
          "base_uri": "https://localhost:8080/"
        },
        "id": "iTY3-pprDFEV",
        "outputId": "053f6421-f321-4774-8558-22236a30b17d"
      },
      "outputs": [
        {
          "output_type": "stream",
          "name": "stdout",
          "text": [
            "Data without augmentation: \n",
            "X_train :  1075\n",
            "X_test  :  269\n",
            "Total audio files:  1344\n"
          ]
        }
      ],
      "source": [
        "print(\"Data without augmentation: \")\n",
        "print(\"X_train : \",len(X_train))\n",
        "print(\"X_test  : \",len(X_test))\n",
        "print(\"Total audio files: \",len(X_train)+len(X_test))"
      ]
    },
    {
      "cell_type": "code",
      "execution_count": null,
      "metadata": {
        "id": "HGGImqnzuD1T"
      },
      "outputs": [],
      "source": [
        "lb = LabelEncoder()\n",
        "y_train = np_utils.to_categorical(lb.fit_transform(np.ravel(y_train)))\n",
        "y_test = np_utils.to_categorical(lb.transform(np.ravel(y_test)))"
      ]
    },
    {
      "cell_type": "code",
      "execution_count": null,
      "metadata": {
        "id": "nJPij1oruVBM"
      },
      "outputs": [],
      "source": [
        "# Reshape for convolution\n",
        "X_train = X_train.reshape(X_train.shape[0], X_train.shape[1] , X_train.shape[2], X_train.shape[3], 1)\n",
        "X_test = X_test.reshape(X_test.shape[0], X_test.shape[1] , X_test.shape[2], X_test.shape[3], 1)"
      ]
    },
    {
      "cell_type": "code",
      "execution_count": null,
      "metadata": {
        "colab": {
          "base_uri": "https://localhost:8080/"
        },
        "id": "0fyvNke_Pj2h",
        "outputId": "6ecf929e-0c24-44e0-cc24-64482d880121"
      },
      "outputs": [
        {
          "output_type": "execute_result",
          "data": {
            "text/plain": [
              "(5, 128, 128, 1)"
            ]
          },
          "metadata": {},
          "execution_count": 27
        }
      ],
      "source": [
        "X_train.shape[1:]"
      ]
    },
    {
      "cell_type": "code",
      "execution_count": null,
      "metadata": {
        "colab": {
          "base_uri": "https://localhost:8080/"
        },
        "id": "Sm5fGHFCuX_Y",
        "outputId": "bc1e7fb6-967e-4721-9f90-8102a0707e89"
      },
      "outputs": [
        {
          "output_type": "stream",
          "name": "stdout",
          "text": [
            "Model: \"model\"\n",
            "_________________________________________________________________\n",
            " Layer (type)                Output Shape              Param #   \n",
            "=================================================================\n",
            " Input_MELSPECT (InputLayer)  [(None, 5, 128, 128, 1)]  0        \n",
            "                                                                 \n",
            " Conv_1_MELSPECT (TimeDistri  (None, 5, 128, 128, 64)  640       \n",
            " buted)                                                          \n",
            "                                                                 \n",
            " BatchNorm_1_MELSPECT (TimeD  (None, 5, 128, 128, 64)  256       \n",
            " istributed)                                                     \n",
            "                                                                 \n",
            " Activ_1_MELSPECT (TimeDistr  (None, 5, 128, 128, 64)  0         \n",
            " ibuted)                                                         \n",
            "                                                                 \n",
            " MaxPool_1_MELSPECT (TimeDis  (None, 5, 64, 64, 64)    0         \n",
            " tributed)                                                       \n",
            "                                                                 \n",
            " Drop_1_MELSPECT (TimeDistri  (None, 5, 64, 64, 64)    0         \n",
            " buted)                                                          \n",
            "                                                                 \n",
            " Conv_2_MELSPECT (TimeDistri  (None, 5, 64, 64, 64)    36928     \n",
            " buted)                                                          \n",
            "                                                                 \n",
            " BatchNorm_2_MELSPECT (TimeD  (None, 5, 64, 64, 64)    256       \n",
            " istributed)                                                     \n",
            "                                                                 \n",
            " Activ_2_MELSPECT (TimeDistr  (None, 5, 64, 64, 64)    0         \n",
            " ibuted)                                                         \n",
            "                                                                 \n",
            " MaxPool_2_MELSPECT (TimeDis  (None, 5, 16, 16, 64)    0         \n",
            " tributed)                                                       \n",
            "                                                                 \n",
            " Drop_2_MELSPECT (TimeDistri  (None, 5, 16, 16, 64)    0         \n",
            " buted)                                                          \n",
            "                                                                 \n",
            " Conv_3_MELSPECT (TimeDistri  (None, 5, 16, 16, 128)   73856     \n",
            " buted)                                                          \n",
            "                                                                 \n",
            " BatchNorm_3_MELSPECT (TimeD  (None, 5, 16, 16, 128)   512       \n",
            " istributed)                                                     \n",
            "                                                                 \n",
            " Activ_3_MELSPECT (TimeDistr  (None, 5, 16, 16, 128)   0         \n",
            " ibuted)                                                         \n",
            "                                                                 \n",
            " MaxPool_3_MELSPECT (TimeDis  (None, 5, 4, 4, 128)     0         \n",
            " tributed)                                                       \n",
            "                                                                 \n",
            " Drop_3_MELSPECT (TimeDistri  (None, 5, 4, 4, 128)     0         \n",
            " buted)                                                          \n",
            "                                                                 \n",
            " Conv_4_MELSPECT (TimeDistri  (None, 5, 4, 4, 128)     147584    \n",
            " buted)                                                          \n",
            "                                                                 \n",
            " BatchNorm_4_MELSPECT (TimeD  (None, 5, 4, 4, 128)     512       \n",
            " istributed)                                                     \n",
            "                                                                 \n",
            " Activ_4_MELSPECT (TimeDistr  (None, 5, 4, 4, 128)     0         \n",
            " ibuted)                                                         \n",
            "                                                                 \n",
            " MaxPool_4_MELSPECT (TimeDis  (None, 5, 1, 1, 128)     0         \n",
            " tributed)                                                       \n",
            "                                                                 \n",
            " Drop_4_MELSPECT (TimeDistri  (None, 5, 1, 1, 128)     0         \n",
            " buted)                                                          \n",
            "                                                                 \n",
            " Flat_MELSPECT (TimeDistribu  (None, 5, 128)           0         \n",
            " ted)                                                            \n",
            "                                                                 \n",
            " LSTM_1 (LSTM)               (None, 256)               394240    \n",
            "                                                                 \n",
            " FC (Dense)                  (None, 7)                 1799      \n",
            "                                                                 \n",
            "=================================================================\n",
            "Total params: 656,583\n",
            "Trainable params: 655,815\n",
            "Non-trainable params: 768\n",
            "_________________________________________________________________\n"
          ]
        }
      ],
      "source": [
        "K.clear_session()\n",
        "\n",
        "input_y = Input(shape=X_train.shape[1:], name='Input_MELSPECT')\n",
        "\n",
        "y = TimeDistributed(Conv2D(64, kernel_size=(3, 3), padding='same'), name='Conv_1_MELSPECT')(input_y)\n",
        "y = TimeDistributed(BatchNormalization(), name='BatchNorm_1_MELSPECT')(y)\n",
        "y = TimeDistributed(Activation('elu'), name='Activ_1_MELSPECT')(y)\n",
        "y = TimeDistributed(MaxPooling2D(pool_size=(2, 2), strides=(2, 2), padding='same'), name='MaxPool_1_MELSPECT')(y)\n",
        "y = TimeDistributed(Dropout(0.2), name='Drop_1_MELSPECT')(y)     \n",
        "\n",
        "y = TimeDistributed(Conv2D(64, kernel_size=(3, 3), strides=(1, 1), padding='same'), name='Conv_2_MELSPECT')(y)\n",
        "y = TimeDistributed(BatchNormalization(), name='BatchNorm_2_MELSPECT')(y)\n",
        "y = TimeDistributed(Activation('elu'), name='Activ_2_MELSPECT')(y)\n",
        "y = TimeDistributed(MaxPooling2D(pool_size=(4, 4), strides=(4, 4), padding='same'), name='MaxPool_2_MELSPECT')(y)\n",
        "y = TimeDistributed(Dropout(0.2), name='Drop_2_MELSPECT')(y)\n",
        "\n",
        "y = TimeDistributed(Conv2D(128, kernel_size=(3, 3), strides=(1, 1), padding='same'), name='Conv_3_MELSPECT')(y)\n",
        "y = TimeDistributed(BatchNormalization(), name='BatchNorm_3_MELSPECT')(y)\n",
        "y = TimeDistributed(Activation('elu'), name='Activ_3_MELSPECT')(y)\n",
        "y = TimeDistributed(MaxPooling2D(pool_size=(4, 4), strides=(4, 4), padding='same'), name='MaxPool_3_MELSPECT')(y)\n",
        "y = TimeDistributed(Dropout(0.2), name='Drop_3_MELSPECT')(y)\n",
        "\n",
        "y = TimeDistributed(Conv2D(128, kernel_size=(3, 3), strides=(1, 1), padding='same'), name='Conv_4_MELSPECT')(y)\n",
        "y = TimeDistributed(BatchNormalization(), name='BatchNorm_4_MELSPECT')(y)\n",
        "y = TimeDistributed(Activation('elu'), name='Activ_4_MELSPECT')(y)\n",
        "y = TimeDistributed(MaxPooling2D(pool_size=(4, 4), strides=(4, 4), padding='same'), name='MaxPool_4_MELSPECT')(y)\n",
        "y = TimeDistributed(Dropout(0.2), name='Drop_4_MELSPECT')(y)  \n",
        "\n",
        "y = TimeDistributed(Flatten(), name='Flat_MELSPECT')(y)                      \n",
        "                               \n",
        "# Apply 2 LSTM layer and one FC\n",
        "y = LSTM(256, return_sequences=False, dropout=0.2, name='LSTM_1')(y)\n",
        "y = Dense(y_train.shape[1], activation='softmax', name='FC')(y)\n",
        "\n",
        "# Build final model\n",
        "model = Model(inputs=input_y, outputs=y)\n",
        "model.summary()"
      ]
    },
    {
      "cell_type": "code",
      "execution_count": null,
      "metadata": {
        "colab": {
          "base_uri": "https://localhost:8080/"
        },
        "id": "ZCcXYIPQub35",
        "outputId": "6a351e44-617f-4d88-c003-0beb492e49d2"
      },
      "outputs": [
        {
          "output_type": "stream",
          "name": "stdout",
          "text": [
            "Epoch 1/100\n",
            "17/17 [==============================] - 18s 856ms/step - loss: 0.8444 - accuracy: 0.6707 - val_loss: 2.3409 - val_accuracy: 0.3717\n",
            "Epoch 2/100\n",
            "17/17 [==============================] - 14s 822ms/step - loss: 0.8761 - accuracy: 0.6651 - val_loss: 3.6591 - val_accuracy: 0.1784\n",
            "Epoch 3/100\n",
            "17/17 [==============================] - 14s 799ms/step - loss: 0.8481 - accuracy: 0.6847 - val_loss: 2.6601 - val_accuracy: 0.3346\n",
            "Epoch 4/100\n",
            "17/17 [==============================] - 14s 804ms/step - loss: 0.8507 - accuracy: 0.6753 - val_loss: 2.1004 - val_accuracy: 0.4461\n",
            "Epoch 5/100\n",
            "17/17 [==============================] - 14s 800ms/step - loss: 0.8154 - accuracy: 0.6716 - val_loss: 1.9401 - val_accuracy: 0.4015\n",
            "Epoch 6/100\n",
            "17/17 [==============================] - 14s 798ms/step - loss: 0.8516 - accuracy: 0.6735 - val_loss: 2.5627 - val_accuracy: 0.3717\n",
            "Epoch 7/100\n",
            "17/17 [==============================] - 14s 799ms/step - loss: 0.8704 - accuracy: 0.6651 - val_loss: 2.9254 - val_accuracy: 0.3086\n",
            "Epoch 8/100\n",
            "17/17 [==============================] - 14s 804ms/step - loss: 0.8312 - accuracy: 0.6847 - val_loss: 2.3154 - val_accuracy: 0.4721\n",
            "Epoch 9/100\n",
            "17/17 [==============================] - 14s 798ms/step - loss: 0.8210 - accuracy: 0.6874 - val_loss: 2.4448 - val_accuracy: 0.3420\n",
            "Epoch 10/100\n",
            "17/17 [==============================] - 13s 797ms/step - loss: 0.8130 - accuracy: 0.6958 - val_loss: 2.3875 - val_accuracy: 0.3346\n",
            "Epoch 11/100\n",
            "17/17 [==============================] - 14s 799ms/step - loss: 0.8261 - accuracy: 0.6912 - val_loss: 3.1310 - val_accuracy: 0.2268\n",
            "Epoch 12/100\n",
            "17/17 [==============================] - 14s 799ms/step - loss: 0.8107 - accuracy: 0.6921 - val_loss: 3.4874 - val_accuracy: 0.2193\n",
            "Epoch 13/100\n",
            "17/17 [==============================] - 14s 797ms/step - loss: 0.8059 - accuracy: 0.6884 - val_loss: 2.2306 - val_accuracy: 0.3903\n",
            "Epoch 14/100\n",
            "17/17 [==============================] - 14s 798ms/step - loss: 0.7786 - accuracy: 0.7033 - val_loss: 3.0199 - val_accuracy: 0.3829\n",
            "Epoch 15/100\n",
            "17/17 [==============================] - 14s 803ms/step - loss: 0.7864 - accuracy: 0.7023 - val_loss: 2.1092 - val_accuracy: 0.4796\n",
            "Epoch 16/100\n",
            "17/17 [==============================] - 14s 802ms/step - loss: 0.8196 - accuracy: 0.6847 - val_loss: 1.6731 - val_accuracy: 0.4461\n",
            "Epoch 17/100\n",
            "17/17 [==============================] - 14s 799ms/step - loss: 0.8181 - accuracy: 0.6986 - val_loss: 1.6346 - val_accuracy: 0.4647\n",
            "Epoch 18/100\n",
            "17/17 [==============================] - 14s 799ms/step - loss: 0.7906 - accuracy: 0.7051 - val_loss: 2.9839 - val_accuracy: 0.2974\n",
            "Epoch 19/100\n",
            "17/17 [==============================] - 13s 797ms/step - loss: 0.7688 - accuracy: 0.6921 - val_loss: 2.1288 - val_accuracy: 0.3866\n",
            "Epoch 20/100\n",
            "17/17 [==============================] - 13s 796ms/step - loss: 0.7604 - accuracy: 0.7079 - val_loss: 2.8529 - val_accuracy: 0.2937\n",
            "Epoch 21/100\n",
            "17/17 [==============================] - 13s 796ms/step - loss: 0.7623 - accuracy: 0.7172 - val_loss: 4.3606 - val_accuracy: 0.1896\n",
            "Epoch 22/100\n",
            "17/17 [==============================] - 13s 797ms/step - loss: 0.7477 - accuracy: 0.7126 - val_loss: 3.3045 - val_accuracy: 0.2751\n",
            "Epoch 23/100\n",
            "17/17 [==============================] - 14s 815ms/step - loss: 0.7966 - accuracy: 0.6837 - val_loss: 2.2975 - val_accuracy: 0.3569\n",
            "Epoch 24/100\n",
            "17/17 [==============================] - 13s 795ms/step - loss: 0.7566 - accuracy: 0.7098 - val_loss: 2.9163 - val_accuracy: 0.2677\n",
            "Epoch 25/100\n",
            "17/17 [==============================] - 13s 795ms/step - loss: 0.7416 - accuracy: 0.7014 - val_loss: 1.8387 - val_accuracy: 0.4201\n",
            "Epoch 26/100\n",
            "17/17 [==============================] - 13s 796ms/step - loss: 0.7449 - accuracy: 0.7070 - val_loss: 3.8120 - val_accuracy: 0.1747\n",
            "Epoch 27/100\n",
            "17/17 [==============================] - 13s 796ms/step - loss: 0.7230 - accuracy: 0.7256 - val_loss: 2.8400 - val_accuracy: 0.3197\n",
            "Epoch 28/100\n",
            "17/17 [==============================] - 14s 799ms/step - loss: 0.7402 - accuracy: 0.7163 - val_loss: 1.8753 - val_accuracy: 0.4572\n",
            "Epoch 29/100\n",
            "17/17 [==============================] - 14s 798ms/step - loss: 0.7321 - accuracy: 0.7274 - val_loss: 1.9154 - val_accuracy: 0.4796\n",
            "Epoch 30/100\n",
            "17/17 [==============================] - 14s 799ms/step - loss: 0.7124 - accuracy: 0.7340 - val_loss: 2.3946 - val_accuracy: 0.3532\n",
            "Epoch 31/100\n",
            "17/17 [==============================] - 13s 797ms/step - loss: 0.7343 - accuracy: 0.7200 - val_loss: 2.8498 - val_accuracy: 0.2602\n",
            "Epoch 32/100\n",
            "17/17 [==============================] - 14s 798ms/step - loss: 0.7279 - accuracy: 0.7256 - val_loss: 1.7560 - val_accuracy: 0.4312\n",
            "Epoch 33/100\n",
            "17/17 [==============================] - 14s 798ms/step - loss: 0.7177 - accuracy: 0.7228 - val_loss: 1.9814 - val_accuracy: 0.4089\n",
            "Epoch 34/100\n",
            "17/17 [==============================] - 14s 798ms/step - loss: 0.6786 - accuracy: 0.7460 - val_loss: 2.2825 - val_accuracy: 0.3866\n",
            "Epoch 35/100\n",
            "17/17 [==============================] - 14s 819ms/step - loss: 0.6812 - accuracy: 0.7488 - val_loss: 2.6750 - val_accuracy: 0.3792\n",
            "Epoch 36/100\n",
            "17/17 [==============================] - 14s 798ms/step - loss: 0.7017 - accuracy: 0.7265 - val_loss: 1.5523 - val_accuracy: 0.4647\n",
            "Epoch 37/100\n",
            "17/17 [==============================] - 14s 800ms/step - loss: 0.6583 - accuracy: 0.7498 - val_loss: 1.5538 - val_accuracy: 0.4684\n",
            "Epoch 38/100\n",
            "17/17 [==============================] - 14s 799ms/step - loss: 0.6967 - accuracy: 0.7321 - val_loss: 3.4895 - val_accuracy: 0.2714\n",
            "Epoch 39/100\n",
            "17/17 [==============================] - 14s 822ms/step - loss: 0.7176 - accuracy: 0.7200 - val_loss: 3.4407 - val_accuracy: 0.3011\n",
            "Epoch 40/100\n",
            "17/17 [==============================] - 13s 797ms/step - loss: 0.6685 - accuracy: 0.7442 - val_loss: 2.0707 - val_accuracy: 0.4052\n",
            "Epoch 41/100\n",
            "17/17 [==============================] - 14s 801ms/step - loss: 0.6614 - accuracy: 0.7526 - val_loss: 2.4694 - val_accuracy: 0.4870\n",
            "Epoch 42/100\n",
            "17/17 [==============================] - 14s 819ms/step - loss: 0.6509 - accuracy: 0.7600 - val_loss: 3.6418 - val_accuracy: 0.2528\n",
            "Epoch 43/100\n",
            "17/17 [==============================] - 14s 819ms/step - loss: 0.6573 - accuracy: 0.7442 - val_loss: 2.8101 - val_accuracy: 0.4349\n",
            "Epoch 44/100\n",
            "17/17 [==============================] - 14s 799ms/step - loss: 0.6653 - accuracy: 0.7405 - val_loss: 3.1004 - val_accuracy: 0.2714\n",
            "Epoch 45/100\n",
            "17/17 [==============================] - 14s 798ms/step - loss: 0.6817 - accuracy: 0.7386 - val_loss: 1.7647 - val_accuracy: 0.4572\n",
            "Epoch 46/100\n",
            "17/17 [==============================] - 14s 798ms/step - loss: 0.6583 - accuracy: 0.7498 - val_loss: 1.7685 - val_accuracy: 0.4164\n",
            "Epoch 47/100\n",
            "17/17 [==============================] - 14s 799ms/step - loss: 0.6100 - accuracy: 0.7777 - val_loss: 3.6622 - val_accuracy: 0.2119\n",
            "Epoch 48/100\n",
            "17/17 [==============================] - 14s 801ms/step - loss: 0.6237 - accuracy: 0.7674 - val_loss: 3.4510 - val_accuracy: 0.3086\n",
            "Epoch 49/100\n",
            "17/17 [==============================] - 14s 800ms/step - loss: 0.6286 - accuracy: 0.7712 - val_loss: 3.4642 - val_accuracy: 0.2416\n",
            "Epoch 50/100\n",
            "17/17 [==============================] - 14s 803ms/step - loss: 0.6099 - accuracy: 0.7712 - val_loss: 2.0479 - val_accuracy: 0.4126\n",
            "Epoch 51/100\n",
            "17/17 [==============================] - 14s 800ms/step - loss: 0.6074 - accuracy: 0.7702 - val_loss: 2.8530 - val_accuracy: 0.3123\n",
            "Epoch 52/100\n",
            "17/17 [==============================] - 14s 799ms/step - loss: 0.6262 - accuracy: 0.7665 - val_loss: 3.5141 - val_accuracy: 0.2379\n",
            "Epoch 53/100\n",
            "17/17 [==============================] - 14s 800ms/step - loss: 0.5999 - accuracy: 0.7730 - val_loss: 1.9935 - val_accuracy: 0.4201\n",
            "Epoch 54/100\n",
            "17/17 [==============================] - 14s 799ms/step - loss: 0.5935 - accuracy: 0.7767 - val_loss: 2.6912 - val_accuracy: 0.3457\n",
            "Epoch 55/100\n",
            "17/17 [==============================] - 14s 799ms/step - loss: 0.5892 - accuracy: 0.7823 - val_loss: 2.8843 - val_accuracy: 0.3903\n",
            "Epoch 56/100\n",
            "17/17 [==============================] - 14s 804ms/step - loss: 0.5803 - accuracy: 0.7777 - val_loss: 2.8212 - val_accuracy: 0.3271\n",
            "Epoch 57/100\n",
            "17/17 [==============================] - 14s 802ms/step - loss: 0.5935 - accuracy: 0.7740 - val_loss: 2.6087 - val_accuracy: 0.4312\n",
            "Epoch 58/100\n",
            "17/17 [==============================] - 14s 799ms/step - loss: 0.5927 - accuracy: 0.7767 - val_loss: 4.2754 - val_accuracy: 0.2045\n",
            "Epoch 59/100\n",
            "17/17 [==============================] - 14s 797ms/step - loss: 0.5953 - accuracy: 0.7767 - val_loss: 3.7876 - val_accuracy: 0.3234\n",
            "Epoch 60/100\n",
            "17/17 [==============================] - 14s 817ms/step - loss: 0.5974 - accuracy: 0.7684 - val_loss: 2.8576 - val_accuracy: 0.3494\n",
            "Epoch 61/100\n",
            "17/17 [==============================] - 14s 799ms/step - loss: 0.5554 - accuracy: 0.8047 - val_loss: 3.1070 - val_accuracy: 0.3494\n",
            "Epoch 62/100\n",
            "17/17 [==============================] - 14s 800ms/step - loss: 0.5675 - accuracy: 0.7898 - val_loss: 3.1566 - val_accuracy: 0.3420\n",
            "Epoch 63/100\n",
            "17/17 [==============================] - 14s 806ms/step - loss: 0.5323 - accuracy: 0.8093 - val_loss: 1.3009 - val_accuracy: 0.6097\n",
            "Epoch 64/100\n",
            "17/17 [==============================] - 14s 798ms/step - loss: 0.5619 - accuracy: 0.7888 - val_loss: 2.9494 - val_accuracy: 0.4164\n",
            "Epoch 65/100\n",
            "17/17 [==============================] - 14s 821ms/step - loss: 0.5238 - accuracy: 0.7972 - val_loss: 1.5472 - val_accuracy: 0.5279\n",
            "Epoch 66/100\n",
            "17/17 [==============================] - 14s 802ms/step - loss: 0.5575 - accuracy: 0.7851 - val_loss: 3.8125 - val_accuracy: 0.2602\n",
            "Epoch 67/100\n",
            "17/17 [==============================] - 14s 800ms/step - loss: 0.5691 - accuracy: 0.7935 - val_loss: 2.7959 - val_accuracy: 0.3494\n",
            "Epoch 68/100\n",
            "17/17 [==============================] - 14s 798ms/step - loss: 0.5407 - accuracy: 0.7972 - val_loss: 2.7149 - val_accuracy: 0.3532\n",
            "Epoch 69/100\n",
            "17/17 [==============================] - 13s 797ms/step - loss: 0.5332 - accuracy: 0.7860 - val_loss: 2.6451 - val_accuracy: 0.3532\n",
            "Epoch 70/100\n",
            "17/17 [==============================] - 14s 798ms/step - loss: 0.5413 - accuracy: 0.7991 - val_loss: 3.8983 - val_accuracy: 0.2305\n",
            "Epoch 71/100\n",
            "17/17 [==============================] - 14s 802ms/step - loss: 0.5571 - accuracy: 0.7935 - val_loss: 2.1272 - val_accuracy: 0.4201\n",
            "Epoch 72/100\n",
            "17/17 [==============================] - 14s 800ms/step - loss: 0.5408 - accuracy: 0.8019 - val_loss: 2.3494 - val_accuracy: 0.4349\n",
            "Epoch 73/100\n",
            "17/17 [==============================] - 14s 799ms/step - loss: 0.5728 - accuracy: 0.7795 - val_loss: 1.4321 - val_accuracy: 0.5056\n",
            "Epoch 74/100\n",
            "17/17 [==============================] - 14s 803ms/step - loss: 0.5266 - accuracy: 0.8074 - val_loss: 2.0297 - val_accuracy: 0.5316\n",
            "Epoch 75/100\n",
            "17/17 [==============================] - 14s 801ms/step - loss: 0.4857 - accuracy: 0.8130 - val_loss: 1.5720 - val_accuracy: 0.4870\n",
            "Epoch 76/100\n",
            "17/17 [==============================] - 14s 800ms/step - loss: 0.4752 - accuracy: 0.8307 - val_loss: 2.7385 - val_accuracy: 0.3606\n",
            "Epoch 77/100\n",
            "17/17 [==============================] - 14s 799ms/step - loss: 0.5109 - accuracy: 0.8093 - val_loss: 1.7953 - val_accuracy: 0.4870\n",
            "Epoch 78/100\n",
            "17/17 [==============================] - 14s 799ms/step - loss: 0.4840 - accuracy: 0.8326 - val_loss: 2.3687 - val_accuracy: 0.4015\n",
            "Epoch 79/100\n",
            "17/17 [==============================] - 14s 821ms/step - loss: 0.5060 - accuracy: 0.8112 - val_loss: 4.1118 - val_accuracy: 0.2119\n",
            "Epoch 80/100\n",
            "17/17 [==============================] - 14s 801ms/step - loss: 0.5022 - accuracy: 0.8056 - val_loss: 2.9217 - val_accuracy: 0.3346\n",
            "Epoch 81/100\n",
            "17/17 [==============================] - 14s 799ms/step - loss: 0.4738 - accuracy: 0.8205 - val_loss: 2.3068 - val_accuracy: 0.4238\n",
            "Epoch 82/100\n",
            "17/17 [==============================] - 14s 820ms/step - loss: 0.4591 - accuracy: 0.8260 - val_loss: 3.4697 - val_accuracy: 0.2677\n",
            "Epoch 83/100\n",
            "17/17 [==============================] - 14s 800ms/step - loss: 0.4636 - accuracy: 0.8326 - val_loss: 3.4440 - val_accuracy: 0.2937\n",
            "Epoch 84/100\n",
            "17/17 [==============================] - 14s 802ms/step - loss: 0.4468 - accuracy: 0.8260 - val_loss: 1.8815 - val_accuracy: 0.5167\n",
            "Epoch 85/100\n",
            "17/17 [==============================] - 14s 799ms/step - loss: 0.4463 - accuracy: 0.8381 - val_loss: 2.0358 - val_accuracy: 0.4610\n",
            "Epoch 86/100\n",
            "17/17 [==============================] - 14s 799ms/step - loss: 0.4810 - accuracy: 0.8177 - val_loss: 3.4028 - val_accuracy: 0.3011\n",
            "Epoch 87/100\n",
            "17/17 [==============================] - 14s 799ms/step - loss: 0.4568 - accuracy: 0.8233 - val_loss: 2.1627 - val_accuracy: 0.4424\n",
            "Epoch 88/100\n",
            "17/17 [==============================] - 14s 818ms/step - loss: 0.4973 - accuracy: 0.8214 - val_loss: 3.2122 - val_accuracy: 0.2900\n",
            "Epoch 89/100\n",
            "17/17 [==============================] - 14s 801ms/step - loss: 0.4377 - accuracy: 0.8419 - val_loss: 2.0393 - val_accuracy: 0.4833\n",
            "Epoch 90/100\n",
            "17/17 [==============================] - 14s 802ms/step - loss: 0.4480 - accuracy: 0.8419 - val_loss: 2.5776 - val_accuracy: 0.4870\n",
            "Epoch 91/100\n",
            "17/17 [==============================] - 14s 801ms/step - loss: 0.4345 - accuracy: 0.8270 - val_loss: 2.2935 - val_accuracy: 0.4089\n",
            "Epoch 92/100\n",
            "17/17 [==============================] - 14s 799ms/step - loss: 0.4131 - accuracy: 0.8595 - val_loss: 2.2148 - val_accuracy: 0.4498\n",
            "Epoch 93/100\n",
            "17/17 [==============================] - 14s 800ms/step - loss: 0.4706 - accuracy: 0.8223 - val_loss: 3.5386 - val_accuracy: 0.3160\n",
            "Epoch 94/100\n",
            "17/17 [==============================] - 14s 799ms/step - loss: 0.4665 - accuracy: 0.8270 - val_loss: 2.1110 - val_accuracy: 0.5130\n",
            "Epoch 95/100\n",
            "17/17 [==============================] - 14s 802ms/step - loss: 0.4414 - accuracy: 0.8353 - val_loss: 2.6491 - val_accuracy: 0.4461\n",
            "Epoch 96/100\n",
            "17/17 [==============================] - 14s 801ms/step - loss: 0.3869 - accuracy: 0.8595 - val_loss: 1.9276 - val_accuracy: 0.5242\n",
            "Epoch 97/100\n",
            "17/17 [==============================] - 14s 799ms/step - loss: 0.4660 - accuracy: 0.8251 - val_loss: 3.4195 - val_accuracy: 0.3792\n",
            "Epoch 98/100\n",
            "17/17 [==============================] - 14s 800ms/step - loss: 0.4326 - accuracy: 0.8493 - val_loss: 2.1748 - val_accuracy: 0.4387\n",
            "Epoch 99/100\n",
            "17/17 [==============================] - 14s 799ms/step - loss: 0.4017 - accuracy: 0.8456 - val_loss: 2.1040 - val_accuracy: 0.4610\n",
            "Epoch 100/100\n",
            "17/17 [==============================] - 14s 800ms/step - loss: 0.3784 - accuracy: 0.8679 - val_loss: 2.3651 - val_accuracy: 0.4387\n"
          ]
        }
      ],
      "source": [
        "# Compile model\n",
        "model.compile(optimizer=SGD(lr=0.01, decay=1e-6, momentum=0.8), loss='categorical_crossentropy', metrics=['accuracy'])\n",
        "\n",
        "# Save best model\n",
        "best_model_save = ModelCheckpoint('CNN_LSTM_Model.hdf5', save_best_only=True, monitor='val_accuracy', mode='max')\n",
        "\n",
        "# Early stopping\n",
        "early_stopping = EarlyStopping(monitor='val_accuracy', patience=100, verbose=1, mode='max')\n",
        "\n",
        "# Fit model\n",
        "history = model.fit(X_train, y_train, batch_size=64, epochs=100, validation_data=(X_test, y_test), callbacks=[early_stopping, best_model_save,tf.keras.callbacks.CSVLogger('drive/My Drive/FYP/Pickle/unaugmented_history.csv')])"
      ]
    },
    {
      "cell_type": "code",
      "execution_count": null,
      "metadata": {
        "id": "P0O7q1GnUyr8"
      },
      "outputs": [],
      "source": [
        ""
      ]
    },
    {
      "cell_type": "code",
      "execution_count": null,
      "metadata": {
        "id": "a2z59hZsuiPq"
      },
      "outputs": [],
      "source": [
        "# model.history.__dict__"
      ]
    },
    {
      "cell_type": "code",
      "execution_count": null,
      "metadata": {
        "id": "DQ4Z89mUUHbK"
      },
      "outputs": [],
      "source": [
        "model.save('drive/My Drive/FYP/Pickle/unaugmented[CNN-LSTM]M.h5')\n",
        "model.save_weights('drive/My Drive/FYP/Pickle/unaugmented[CNN-LSTM]W.h5')"
      ]
    },
    {
      "cell_type": "code",
      "source": [
        ""
      ],
      "metadata": {
        "id": "nSoeSeXT_CIy"
      },
      "execution_count": null,
      "outputs": []
    },
    {
      "cell_type": "code",
      "source": [
        "# loss, acc = new_model.evaluate(x_test, y_test, verbose=0)\n",
        "# print(f\"test accuracy {acc*100}\")"
      ],
      "metadata": {
        "id": "XopXJMH3A1Aj"
      },
      "execution_count": null,
      "outputs": []
    },
    {
      "cell_type": "code",
      "execution_count": null,
      "metadata": {
        "id": "AfNGD0f1fLdd",
        "colab": {
          "base_uri": "https://localhost:8080/",
          "height": 627
        },
        "outputId": "94af83ed-17be-46be-c97a-86ff1f8d74cd"
      },
      "outputs": [
        {
          "output_type": "execute_result",
          "data": {
            "text/plain": [
              "Text(0, 0.5, 'Accuracy')"
            ]
          },
          "metadata": {},
          "execution_count": 35
        },
        {
          "output_type": "display_data",
          "data": {
            "text/plain": [
              "<Figure size 1800x720 with 1 Axes>"
            ],
            "image/png": "[encoded data removed]"
          },
          "metadata": {
            "needs_background": "light"
          }
        }
      ],
      "source": [
        "# import pandas\n",
        "# history = {} \n",
        "# history[\"history\"] = pandas.read_csv('/content/drive/MyDrive/FYP/Pickle/unaugmented_history.csv')\n",
        "# history[\"history\"].head()\n",
        "plt.figure(figsize=(25,10))\n",
        "plt.subplot(1,2,1)\n",
        "# plt.plot(history['history']['accuracy'],'-b')\n",
        "# plt.plot(history['history']['val_accuracy'],'r')\n",
        "plt.plot(history.history['accuracy'],'-b')\n",
        "plt.plot(history.history['val_accuracy'],'r')\n",
        "plt.legend(['Training accuracy','Validation accuracy'])\n",
        "plt.axis([0, 100, 0, 1])\n",
        "plt.xlabel('Epochs')\n",
        "plt.ylabel('Accuracy')\n",
        "\n"
      ]
    },
    {
      "cell_type": "code",
      "source": [
        "augmented_model = tf.keras.models.load_model('/content/drive/MyDrive/Pickle/[CNN-LSTM]M.h5')\n"
      ],
      "metadata": {
        "id": "KZE0ZkCA-C5p",
        "colab": {
          "base_uri": "https://localhost:8080/"
        },
        "outputId": "98930867-b396-43c6-ec23-dcdbc470c3af"
      },
      "execution_count": null,
      "outputs": [
        {
          "output_type": "execute_result",
          "data": {
            "text/plain": [
              "{'_activity_regularizer': None,\n",
              " '_auto_track_sub_layers': True,\n",
              " '_autocast': False,\n",
              " '_base_model_initialized': True,\n",
              " '_build_input_shape': TensorShape([None, 5, 128, 128, 1]),\n",
              " '_callable_losses': [],\n",
              " '_cluster_coordinator': None,\n",
              " '_compiled_trainable_state': <WeakKeyDictionary at 0x7fb18f721a90>,\n",
              " '_compute_dtype_object': tf.float32,\n",
              " '_compute_output_and_mask_jointly': True,\n",
              " '_default_training_arg': None,\n",
              " '_distribution_strategy': None,\n",
              " '_dtype_policy': <Policy \"float32\">,\n",
              " '_dynamic': False,\n",
              " '_enable_dict_to_input_mapping': True,\n",
              " '_expects_mask_arg': True,\n",
              " '_expects_training_arg': True,\n",
              " '_feed_input_names': ['Input_MELSPECT'],\n",
              " '_feed_input_shapes': [(None, 5, 128, 128, 1)],\n",
              " '_feed_inputs': [<KerasTensor: shape=(None, 5, 128, 128, 1) dtype=float32 (created by layer 'Input_MELSPECT')>],\n",
              " '_inbound_nodes_value': [],\n",
              " '_initial_weights': None,\n",
              " '_input_coordinates': [(<keras.engine.input_layer.InputLayer at 0x7fb18e4e6190>,\n",
              "   0,\n",
              "   0)],\n",
              " '_input_layers': [<keras.engine.input_layer.InputLayer at 0x7fb18e4e6190>],\n",
              " '_input_spec': None,\n",
              " '_instrumented_keras_api': True,\n",
              " '_instrumented_keras_layer_class': False,\n",
              " '_instrumented_keras_model_class': True,\n",
              " '_is_compiled': True,\n",
              " '_is_graph_network': True,\n",
              " '_is_model_for_instrumentation': True,\n",
              " '_jit_compile': None,\n",
              " '_layer_call_argspecs': {<keras.engine.input_layer.InputLayer at 0x7fb18e4e6190>: FullArgSpec(args=['self', 'inputs'], varargs='args', varkw='kwargs', defaults=None, kwonlyargs=[], kwonlydefaults=None, annotations={}),\n",
              "  <keras.layers.core.dense.Dense at 0x7fb18db38690>: FullArgSpec(args=['self', 'inputs'], varargs=None, varkw=None, defaults=None, kwonlyargs=[], kwonlydefaults=None, annotations={}),\n",
              "  <keras.layers.recurrent_v2.LSTM at 0x7fb18db38590>: FullArgSpec(args=['self', 'inputs', 'mask', 'training', 'initial_state'], varargs=None, varkw=None, defaults=(None, None, None), kwonlyargs=[], kwonlydefaults=None, annotations={}),\n",
              "  <keras.layers.wrappers.TimeDistributed at 0x7fb18db332d0>: FullArgSpec(args=['self', 'inputs', 'training', 'mask'], varargs=None, varkw=None, defaults=(None, None), kwonlyargs=[], kwonlydefaults=None, annotations={}),\n",
              "  <keras.layers.wrappers.TimeDistributed at 0x7fb18db337d0>: FullArgSpec(args=['self', 'inputs', 'training', 'mask'], varargs=None, varkw=None, defaults=(None, None), kwonlyargs=[], kwonlydefaults=None, annotations={}),\n",
              "  <keras.layers.wrappers.TimeDistributed at 0x7fb18db33d50>: FullArgSpec(args=['self', 'inputs', 'training', 'mask'], varargs=None, varkw=None, defaults=(None, None), kwonlyargs=[], kwonlydefaults=None, annotations={}),\n",
              "  <keras.layers.wrappers.TimeDistributed at 0x7fb18db381d0>: FullArgSpec(args=['self', 'inputs', 'training', 'mask'], varargs=None, varkw=None, defaults=(None, None), kwonlyargs=[], kwonlydefaults=None, annotations={}),\n",
              "  <keras.layers.wrappers.TimeDistributed at 0x7fb18db92410>: FullArgSpec(args=['self', 'inputs', 'training', 'mask'], varargs=None, varkw=None, defaults=(None, None), kwonlyargs=[], kwonlydefaults=None, annotations={}),\n",
              "  <keras.layers.wrappers.TimeDistributed at 0x7fb18db92a10>: FullArgSpec(args=['self', 'inputs', 'training', 'mask'], varargs=None, varkw=None, defaults=(None, None), kwonlyargs=[], kwonlydefaults=None, annotations={}),\n",
              "  <keras.layers.wrappers.TimeDistributed at 0x7fb18db92ed0>: FullArgSpec(args=['self', 'inputs', 'training', 'mask'], varargs=None, varkw=None, defaults=(None, None), kwonlyargs=[], kwonlydefaults=None, annotations={}),\n",
              "  <keras.layers.wrappers.TimeDistributed at 0x7fb18db98390>: FullArgSpec(args=['self', 'inputs', 'training', 'mask'], varargs=None, varkw=None, defaults=(None, None), kwonlyargs=[], kwonlydefaults=None, annotations={}),\n",
              "  <keras.layers.wrappers.TimeDistributed at 0x7fb18db98890>: FullArgSpec(args=['self', 'inputs', 'training', 'mask'], varargs=None, varkw=None, defaults=(None, None), kwonlyargs=[], kwonlydefaults=None, annotations={}),\n",
              "  <keras.layers.wrappers.TimeDistributed at 0x7fb18dba0790>: FullArgSpec(args=['self', 'inputs', 'training', 'mask'], varargs=None, varkw=None, defaults=(None, None), kwonlyargs=[], kwonlydefaults=None, annotations={}),\n",
              "  <keras.layers.wrappers.TimeDistributed at 0x7fb18dba0bd0>: FullArgSpec(args=['self', 'inputs', 'training', 'mask'], varargs=None, varkw=None, defaults=(None, None), kwonlyargs=[], kwonlydefaults=None, annotations={}),\n",
              "  <keras.layers.wrappers.TimeDistributed at 0x7fb18dba9bd0>: FullArgSpec(args=['self', 'inputs', 'training', 'mask'], varargs=None, varkw=None, defaults=(None, None), kwonlyargs=[], kwonlydefaults=None, annotations={}),\n",
              "  <keras.layers.wrappers.TimeDistributed at 0x7fb18dbe2210>: FullArgSpec(args=['self', 'inputs', 'training', 'mask'], varargs=None, varkw=None, defaults=(None, None), kwonlyargs=[], kwonlydefaults=None, annotations={}),\n",
              "  <keras.layers.wrappers.TimeDistributed at 0x7fb18dbe2790>: FullArgSpec(args=['self', 'inputs', 'training', 'mask'], varargs=None, varkw=None, defaults=(None, None), kwonlyargs=[], kwonlydefaults=None, annotations={}),\n",
              "  <keras.layers.wrappers.TimeDistributed at 0x7fb18dbef310>: FullArgSpec(args=['self', 'inputs', 'training', 'mask'], varargs=None, varkw=None, defaults=(None, None), kwonlyargs=[], kwonlydefaults=None, annotations={}),\n",
              "  <keras.layers.wrappers.TimeDistributed at 0x7fb18dbef5d0>: FullArgSpec(args=['self', 'inputs', 'training', 'mask'], varargs=None, varkw=None, defaults=(None, None), kwonlyargs=[], kwonlydefaults=None, annotations={}),\n",
              "  <keras.layers.wrappers.TimeDistributed at 0x7fb18dbefd90>: FullArgSpec(args=['self', 'inputs', 'training', 'mask'], varargs=None, varkw=None, defaults=(None, None), kwonlyargs=[], kwonlydefaults=None, annotations={}),\n",
              "  <keras.layers.wrappers.TimeDistributed at 0x7fb18e4b8b10>: FullArgSpec(args=['self', 'inputs', 'training', 'mask'], varargs=None, varkw=None, defaults=(None, None), kwonlyargs=[], kwonlydefaults=None, annotations={}),\n",
              "  <keras.layers.wrappers.TimeDistributed at 0x7fb18e6b3990>: FullArgSpec(args=['self', 'inputs', 'training', 'mask'], varargs=None, varkw=None, defaults=(None, None), kwonlyargs=[], kwonlydefaults=None, annotations={}),\n",
              "  <keras.layers.wrappers.TimeDistributed at 0x7fb18f00d690>: FullArgSpec(args=['self', 'inputs', 'training', 'mask'], varargs=None, varkw=None, defaults=(None, None), kwonlyargs=[], kwonlydefaults=None, annotations={}),\n",
              "  <keras.layers.wrappers.TimeDistributed at 0x7fb18fd77550>: FullArgSpec(args=['self', 'inputs', 'training', 'mask'], varargs=None, varkw=None, defaults=(None, None), kwonlyargs=[], kwonlydefaults=None, annotations={})},\n",
              " '_losses': [],\n",
              " '_metrics': [],\n",
              " '_metrics_lock': <unlocked _thread.lock object at 0x7fb18f050960>,\n",
              " '_name': 'model',\n",
              " '_nested_inputs': <KerasTensor: shape=(None, 5, 128, 128, 1) dtype=float32 (created by layer 'Input_MELSPECT')>,\n",
              " '_nested_outputs': <KerasTensor: shape=(None, 7) dtype=float32 (created by layer 'FC')>,\n",
              " '_network_nodes': {'Activ_1_MELSPECT_ib-0',\n",
              "  'Activ_2_MELSPECT_ib-0',\n",
              "  'Activ_3_MELSPECT_ib-0',\n",
              "  'Activ_4_MELSPECT_ib-0',\n",
              "  'BatchNorm_1_MELSPECT_ib-0',\n",
              "  'BatchNorm_2_MELSPECT_ib-0',\n",
              "  'BatchNorm_3_MELSPECT_ib-0',\n",
              "  'BatchNorm_4_MELSPECT_ib-0',\n",
              "  'Conv_1_MELSPECT_ib-0',\n",
              "  'Conv_2_MELSPECT_ib-0',\n",
              "  'Conv_3_MELSPECT_ib-0',\n",
              "  'Conv_4_MELSPECT_ib-0',\n",
              "  'Drop_1_MELSPECT_ib-0',\n",
              "  'Drop_2_MELSPECT_ib-0',\n",
              "  'Drop_3_MELSPECT_ib-0',\n",
              "  'Drop_4_MELSPECT_ib-0',\n",
              "  'FC_ib-0',\n",
              "  'Flat_MELSPECT_ib-0',\n",
              "  'Input_MELSPECT_ib-0',\n",
              "  'LSTM_1_ib-0',\n",
              "  'MaxPool_1_MELSPECT_ib-0',\n",
              "  'MaxPool_2_MELSPECT_ib-0',\n",
              "  'MaxPool_3_MELSPECT_ib-0',\n",
              "  'MaxPool_4_MELSPECT_ib-0'},\n",
              " '_nodes_by_depth': defaultdict(list,\n",
              "             {0: [<keras.engine.node.Node at 0x7fb18050bc90>],\n",
              "              1: [<keras.engine.node.Node at 0x7fb18db38510>],\n",
              "              2: [<keras.engine.node.Node at 0x7fb18db380d0>],\n",
              "              3: [<keras.engine.node.Node at 0x7fb18db33b10>],\n",
              "              4: [<keras.engine.node.Node at 0x7fb18db33710>],\n",
              "              5: [<keras.engine.node.Node at 0x7fb18dba9f90>],\n",
              "              6: [<keras.engine.node.Node at 0x7fb18dba9790>],\n",
              "              7: [<keras.engine.node.Node at 0x7fb18dba9410>],\n",
              "              8: [<keras.engine.node.Node at 0x7fb18dba0ed0>],\n",
              "              9: [<keras.engine.node.Node at 0x7fb18dba0b50>],\n",
              "              10: [<keras.engine.node.Node at 0x7fb18dba0490>],\n",
              "              11: [<keras.engine.node.Node at 0x7fb18db98bd0>],\n",
              "              12: [<keras.engine.node.Node at 0x7fb18db98790>],\n",
              "              13: [<keras.engine.node.Node at 0x7fb18db98250>],\n",
              "              14: [<keras.engine.node.Node at 0x7fb18db92e50>],\n",
              "              15: [<keras.engine.node.Node at 0x7fb18db92750>],\n",
              "              16: [<keras.engine.node.Node at 0x7fb18dbe2e50>],\n",
              "              17: [<keras.engine.node.Node at 0x7fb18058fb10>],\n",
              "              18: [<keras.engine.node.Node at 0x7fb18dbe2550>],\n",
              "              19: [<keras.engine.node.Node at 0x7fb18dbe2110>],\n",
              "              20: [<keras.engine.node.Node at 0x7fb18dbef910>],\n",
              "              21: [<keras.engine.node.Node at 0x7fb18db55610>],\n",
              "              22: [<keras.engine.node.Node at 0x7fb18e471c50>],\n",
              "              23: [<keras.engine.node.Node at 0x7fb19219b090>]}),\n",
              " '_non_trainable_weights': [],\n",
              " '_obj_reference_counts_dict': ObjectIdentityDictionary({<_ObjectIdentityWrapper wrapping <keras.optimizer_v2.gradient_descent.SGD object at 0x7fb180529f10>>: 1, <_ObjectIdentityWrapper wrapping <keras.engine.compile_utils.LossesContainer object at 0x7fb1804bde50>>: 1, <_ObjectIdentityWrapper wrapping <keras.engine.compile_utils.MetricsContainer object at 0x7fb18041fb10>>: 1, <_ObjectIdentityWrapper wrapping True>: 1, <_ObjectIdentityWrapper wrapping <function categorical_crossentropy at 0x7fb195f9be60>>: 1}),\n",
              " '_outbound_nodes_value': [],\n",
              " '_outer_name_scope': '',\n",
              " '_output_coordinates': [(<keras.layers.core.dense.Dense at 0x7fb18db38690>,\n",
              "   0,\n",
              "   0)],\n",
              " '_output_layers': [<keras.layers.core.dense.Dense at 0x7fb18db38690>],\n",
              " '_output_mask_cache': {},\n",
              " '_output_shape_cache': {},\n",
              " '_output_tensor_cache': {},\n",
              " '_predict_counter': <tf.Variable 'Variable:0' shape=() dtype=int64, numpy=0>,\n",
              " '_preserve_input_structure_in_config': False,\n",
              " '_run_eagerly': None,\n",
              " '_saved_model_arg_spec': ([TensorSpec(shape=(None, 5, 128, 128, 1), dtype=tf.float32, name='Input_MELSPECT')],\n",
              "  {}),\n",
              " '_saved_model_inputs_spec': TensorSpec(shape=(None, 5, 128, 128, 1), dtype=tf.float32, name='Input_MELSPECT'),\n",
              " '_self_name_based_restores': set(),\n",
              " '_self_saveable_object_factories': {},\n",
              " '_self_setattr_tracking': True,\n",
              " '_self_tracked_trackables': [<keras.engine.input_layer.InputLayer at 0x7fb18e4e6190>,\n",
              "  <keras.layers.wrappers.TimeDistributed at 0x7fb18fd77550>,\n",
              "  <keras.layers.wrappers.TimeDistributed at 0x7fb18dbef5d0>,\n",
              "  <keras.layers.wrappers.TimeDistributed at 0x7fb18dbefd90>,\n",
              "  <keras.layers.wrappers.TimeDistributed at 0x7fb18dbe2210>,\n",
              "  <keras.layers.wrappers.TimeDistributed at 0x7fb18dbe2790>,\n",
              "  <keras.layers.wrappers.TimeDistributed at 0x7fb18e4b8b10>,\n",
              "  <keras.layers.wrappers.TimeDistributed at 0x7fb18db92410>,\n",
              "  <keras.layers.wrappers.TimeDistributed at 0x7fb18db92a10>,\n",
              "  <keras.layers.wrappers.TimeDistributed at 0x7fb18db92ed0>,\n",
              "  <keras.layers.wrappers.TimeDistributed at 0x7fb18db98390>,\n",
              "  <keras.layers.wrappers.TimeDistributed at 0x7fb18db98890>,\n",
              "  <keras.layers.wrappers.TimeDistributed at 0x7fb18dbef310>,\n",
              "  <keras.layers.wrappers.TimeDistributed at 0x7fb18dba0790>,\n",
              "  <keras.layers.wrappers.TimeDistributed at 0x7fb18dba0bd0>,\n",
              "  <keras.layers.wrappers.TimeDistributed at 0x7fb18f00d690>,\n",
              "  <keras.layers.wrappers.TimeDistributed at 0x7fb18e6b3990>,\n",
              "  <keras.layers.wrappers.TimeDistributed at 0x7fb18dba9bd0>,\n",
              "  <keras.layers.wrappers.TimeDistributed at 0x7fb18db332d0>,\n",
              "  <keras.layers.wrappers.TimeDistributed at 0x7fb18db337d0>,\n",
              "  <keras.layers.wrappers.TimeDistributed at 0x7fb18db33d50>,\n",
              "  <keras.layers.wrappers.TimeDistributed at 0x7fb18db381d0>,\n",
              "  <keras.layers.recurrent_v2.LSTM at 0x7fb18db38590>,\n",
              "  <keras.layers.core.dense.Dense at 0x7fb18db38690>],\n",
              " '_self_unconditional_checkpoint_dependencies': [TrackableReference(name=optimizer, ref=<keras.optimizer_v2.gradient_descent.SGD object at 0x7fb180529f10>)],\n",
              " '_self_unconditional_deferred_dependencies': {},\n",
              " '_self_unconditional_dependency_names': {'optimizer': <keras.optimizer_v2.gradient_descent.SGD at 0x7fb180529f10>},\n",
              " '_self_update_uid': -1,\n",
              " '_stateful': False,\n",
              " '_steps_per_execution': <tf.Variable 'Variable:0' shape=() dtype=int64, numpy=1>,\n",
              " '_supports_masking': True,\n",
              " '_tensor_usage_count': Counter({'140400338377936': 1,\n",
              "          '140400338461776': 1,\n",
              "          '140400338713872': 1,\n",
              "          '140400338728336': 1,\n",
              "          '140400338765648': 1,\n",
              "          '140400338779600': 1,\n",
              "          '140400338802832': 1,\n",
              "          '140400338802960': 1,\n",
              "          '140400338976592': 1,\n",
              "          '140400339007312': 1,\n",
              "          '140400339008656': 1,\n",
              "          '140400339034704': 1,\n",
              "          '140400339035216': 1,\n",
              "          '140400339085712': 1,\n",
              "          '140400339113296': 1,\n",
              "          '140400339114512': 1,\n",
              "          '140400339126992': 1,\n",
              "          '140400339156368': 1,\n",
              "          '140400339194000': 1,\n",
              "          '140400339224912': 1,\n",
              "          '140400339225104': 1,\n",
              "          '140400339470800': 1,\n",
              "          '140400564467408': 1,\n",
              "          '140400572963664': 1}),\n",
              " '_test_counter': <tf.Variable 'Variable:0' shape=() dtype=int64, numpy=0>,\n",
              " '_thread_local': <_thread._local at 0x7fb195fa2710>,\n",
              " '_trackable_saver': <tensorflow.python.training.tracking.util.TrackableSaver at 0x7fb18e4cd910>,\n",
              " '_train_counter': <tf.Variable 'Variable:0' shape=() dtype=int64, numpy=0>,\n",
              " '_trainable': True,\n",
              " '_trainable_weights': [],\n",
              " '_training_state': None,\n",
              " '_updates': [],\n",
              " 'built': True,\n",
              " 'compiled_loss': <keras.engine.compile_utils.LossesContainer at 0x7fb1804bde50>,\n",
              " 'compiled_metrics': <keras.engine.compile_utils.MetricsContainer at 0x7fb18041fb10>,\n",
              " 'history': None,\n",
              " 'input_names': ['Input_MELSPECT'],\n",
              " 'inputs': [<KerasTensor: shape=(None, 5, 128, 128, 1) dtype=float32 (created by layer 'Input_MELSPECT')>],\n",
              " 'loss': <function keras.losses.categorical_crossentropy>,\n",
              " 'optimizer': <keras.optimizer_v2.gradient_descent.SGD at 0x7fb180529f10>,\n",
              " 'output_names': ['FC'],\n",
              " 'outputs': [<KerasTensor: shape=(None, 7) dtype=float32 (created by layer 'FC')>],\n",
              " 'predict_function': None,\n",
              " 'stop_training': False,\n",
              " 'test_function': None,\n",
              " 'train_function': None,\n",
              " 'train_tf_function': None}"
            ]
          },
          "metadata": {},
          "execution_count": 6
        }
      ]
    },
    {
      "cell_type": "code",
      "source": [
        "y_pred=augmented_model.predict(X_test)"
      ],
      "metadata": {
        "id": "U7hxS7AsHdvH"
      },
      "execution_count": null,
      "outputs": []
    },
    {
      "cell_type": "code",
      "source": [
        "# unaugmented_model.load_weights('/content/drive/MyDrive/Pickle/unaugmented[CNN-LSTM]M.h5')\n",
        "# unaugmented_model.__dict__"
      ],
      "metadata": {
        "id": "KNKyiZ7AbdF6"
      },
      "execution_count": null,
      "outputs": []
    },
    {
      "cell_type": "code",
      "source": [
        "import seaborn as sns"
      ],
      "metadata": {
        "id": "VsCbB-99H3wL"
      },
      "execution_count": null,
      "outputs": []
    },
    {
      "cell_type": "code",
      "source": [
        ""
      ],
      "metadata": {
        "id": "HH0j-OWPbfoU",
        "colab": {
          "base_uri": "https://localhost:8080/",
          "height": 346
        },
        "outputId": "cd65e408-0779-4edd-ea64-04f5b17d1782"
      },
      "execution_count": null,
      "outputs": [
        {
          "output_type": "error",
          "ename": "ValueError",
          "evalue": "ignored",
          "traceback": [
            "\u001b[0;31m---------------------------------------------------------------------------\u001b[0m",
            "\u001b[0;31mValueError\u001b[0m                                Traceback (most recent call last)",
            "\u001b[0;32m<ipython-input-9-fa7f9b7f5f82>\u001b[0m in \u001b[0;36m<module>\u001b[0;34m()\u001b[0m\n\u001b[1;32m      1\u001b[0m \u001b[0;32mfrom\u001b[0m \u001b[0msklearn\u001b[0m\u001b[0;34m.\u001b[0m\u001b[0mmetrics\u001b[0m \u001b[0;32mimport\u001b[0m \u001b[0mconfusion_matrix\u001b[0m\u001b[0;34m\u001b[0m\u001b[0;34m\u001b[0m\u001b[0m\n\u001b[0;32m----> 2\u001b[0;31m \u001b[0mmatrix_confusion\u001b[0m \u001b[0;34m=\u001b[0m \u001b[0mconfusion_matrix\u001b[0m\u001b[0;34m(\u001b[0m\u001b[0my_test\u001b[0m\u001b[0;34m,\u001b[0m \u001b[0my_pred\u001b[0m\u001b[0;34m)\u001b[0m\u001b[0;34m\u001b[0m\u001b[0;34m\u001b[0m\u001b[0m\n\u001b[0m\u001b[1;32m      3\u001b[0m \u001b[0msns\u001b[0m\u001b[0;34m.\u001b[0m\u001b[0mheatmap\u001b[0m\u001b[0;34m(\u001b[0m\u001b[0mmatrix_confusion\u001b[0m\u001b[0;34m,\u001b[0m \u001b[0msquare\u001b[0m\u001b[0;34m=\u001b[0m\u001b[0;32mTrue\u001b[0m\u001b[0;34m,\u001b[0m \u001b[0mannot\u001b[0m\u001b[0;34m=\u001b[0m\u001b[0;32mTrue\u001b[0m\u001b[0;34m,\u001b[0m \u001b[0mcmap\u001b[0m\u001b[0;34m=\u001b[0m\u001b[0;34m'Blues'\u001b[0m\u001b[0;34m,\u001b[0m \u001b[0mfmt\u001b[0m\u001b[0;34m=\u001b[0m\u001b[0;34m'd'\u001b[0m\u001b[0;34m)\u001b[0m\u001b[0;34m\u001b[0m\u001b[0;34m\u001b[0m\u001b[0m\n",
            "\u001b[0;32m/usr/local/lib/python3.7/dist-packages/sklearn/metrics/_classification.py\u001b[0m in \u001b[0;36mconfusion_matrix\u001b[0;34m(y_true, y_pred, labels, sample_weight, normalize)\u001b[0m\n\u001b[1;32m    305\u001b[0m     \u001b[0;34m(\u001b[0m\u001b[0;36m0\u001b[0m\u001b[0;34m,\u001b[0m \u001b[0;36m2\u001b[0m\u001b[0;34m,\u001b[0m \u001b[0;36m1\u001b[0m\u001b[0;34m,\u001b[0m \u001b[0;36m1\u001b[0m\u001b[0;34m)\u001b[0m\u001b[0;34m\u001b[0m\u001b[0;34m\u001b[0m\u001b[0m\n\u001b[1;32m    306\u001b[0m     \"\"\"\n\u001b[0;32m--> 307\u001b[0;31m     \u001b[0my_type\u001b[0m\u001b[0;34m,\u001b[0m \u001b[0my_true\u001b[0m\u001b[0;34m,\u001b[0m \u001b[0my_pred\u001b[0m \u001b[0;34m=\u001b[0m \u001b[0m_check_targets\u001b[0m\u001b[0;34m(\u001b[0m\u001b[0my_true\u001b[0m\u001b[0;34m,\u001b[0m \u001b[0my_pred\u001b[0m\u001b[0;34m)\u001b[0m\u001b[0;34m\u001b[0m\u001b[0;34m\u001b[0m\u001b[0m\n\u001b[0m\u001b[1;32m    308\u001b[0m     \u001b[0;32mif\u001b[0m \u001b[0my_type\u001b[0m \u001b[0;32mnot\u001b[0m \u001b[0;32min\u001b[0m \u001b[0;34m(\u001b[0m\u001b[0;34m\"binary\"\u001b[0m\u001b[0;34m,\u001b[0m \u001b[0;34m\"multiclass\"\u001b[0m\u001b[0;34m)\u001b[0m\u001b[0;34m:\u001b[0m\u001b[0;34m\u001b[0m\u001b[0;34m\u001b[0m\u001b[0m\n\u001b[1;32m    309\u001b[0m         \u001b[0;32mraise\u001b[0m \u001b[0mValueError\u001b[0m\u001b[0;34m(\u001b[0m\u001b[0;34m\"%s is not supported\"\u001b[0m \u001b[0;34m%\u001b[0m \u001b[0my_type\u001b[0m\u001b[0;34m)\u001b[0m\u001b[0;34m\u001b[0m\u001b[0;34m\u001b[0m\u001b[0m\n",
            "\u001b[0;32m/usr/local/lib/python3.7/dist-packages/sklearn/metrics/_classification.py\u001b[0m in \u001b[0;36m_check_targets\u001b[0;34m(y_true, y_pred)\u001b[0m\n\u001b[1;32m     93\u001b[0m         raise ValueError(\n\u001b[1;32m     94\u001b[0m             \"Classification metrics can't handle a mix of {0} and {1} targets\".format(\n\u001b[0;32m---> 95\u001b[0;31m                 \u001b[0mtype_true\u001b[0m\u001b[0;34m,\u001b[0m \u001b[0mtype_pred\u001b[0m\u001b[0;34m\u001b[0m\u001b[0;34m\u001b[0m\u001b[0m\n\u001b[0m\u001b[1;32m     96\u001b[0m             )\n\u001b[1;32m     97\u001b[0m         )\n",
            "\u001b[0;31mValueError\u001b[0m: Classification metrics can't handle a mix of multiclass and continuous-multioutput targets"
          ]
        }
      ]
    },
    {
      "cell_type": "code",
      "source": [
        "y_test"
      ],
      "metadata": {
        "colab": {
          "base_uri": "https://localhost:8080/"
        },
        "id": "gd0r8YRhH9wE",
        "outputId": "48d4d160-e84d-4f3b-9f21-a8f94cce1289"
      },
      "execution_count": null,
      "outputs": [
        {
          "output_type": "execute_result",
          "data": {
            "text/plain": [
              "array(['DIS', 'FEA', 'ANG', 'SAD', 'DIS', 'HAP', 'SAD', 'FEA', 'ANG',\n",
              "       'FEA', 'SAD', 'SAD', 'NEU', 'SAD', 'SUR', 'NEU', 'SAD', 'FEA',\n",
              "       'FEA', 'SAD', 'DIS', 'DIS', 'DIS', 'SAD', 'NEU', 'ANG', 'DIS',\n",
              "       'HAP', 'NEU', 'SUR', 'SUR', 'ANG', 'SUR', 'FEA', 'SAD', 'DIS',\n",
              "       'SAD', 'ANG', 'SAD', 'DIS', 'ANG', 'DIS', 'DIS', 'SAD', 'FEA',\n",
              "       'SAD', 'SAD', 'FEA', 'NEU', 'SAD', 'FEA', 'ANG', 'SUR', 'HAP',\n",
              "       'SAD', 'SAD', 'DIS', 'DIS', 'SAD', 'HAP', 'FEA', 'NEU', 'ANG',\n",
              "       'FEA', 'FEA', 'FEA', 'HAP', 'FEA', 'SUR', 'ANG', 'NEU', 'HAP',\n",
              "       'ANG', 'HAP', 'SAD', 'DIS', 'FEA', 'HAP', 'DIS', 'SUR', 'SUR',\n",
              "       'HAP', 'SAD', 'FEA', 'FEA', 'NEU', 'ANG', 'HAP', 'FEA', 'DIS',\n",
              "       'DIS', 'HAP', 'FEA', 'NEU', 'SAD', 'ANG', 'SUR', 'ANG', 'SUR',\n",
              "       'SUR', 'SAD', 'HAP', 'ANG', 'SAD', 'ANG', 'DIS', 'SUR', 'ANG',\n",
              "       'DIS', 'FEA', 'ANG', 'SUR', 'FEA', 'SAD', 'FEA', 'ANG', 'HAP',\n",
              "       'FEA', 'HAP', 'ANG', 'SUR', 'HAP', 'FEA', 'SAD', 'ANG', 'DIS',\n",
              "       'FEA', 'NEU', 'NEU', 'NEU', 'DIS', 'FEA', 'NEU', 'SAD', 'SAD',\n",
              "       'SAD', 'ANG', 'NEU', 'NEU', 'FEA', 'NEU', 'FEA', 'NEU', 'NEU',\n",
              "       'ANG', 'NEU', 'SAD', 'DIS', 'HAP', 'FEA', 'DIS', 'FEA', 'HAP',\n",
              "       'DIS', 'NEU', 'DIS', 'SAD', 'HAP', 'ANG', 'DIS', 'SAD', 'ANG',\n",
              "       'ANG', 'SUR', 'NEU', 'SUR', 'SUR', 'SAD', 'ANG', 'HAP', 'ANG',\n",
              "       'DIS', 'SAD', 'ANG', 'DIS', 'ANG', 'FEA', 'DIS', 'HAP', 'HAP',\n",
              "       'SUR', 'HAP', 'ANG', 'ANG', 'HAP', 'SUR', 'HAP', 'SAD', 'ANG',\n",
              "       'DIS', 'HAP', 'ANG', 'NEU', 'DIS', 'NEU', 'FEA', 'NEU', 'SAD',\n",
              "       'ANG', 'SAD', 'FEA', 'ANG', 'DIS', 'SUR', 'SUR', 'NEU', 'SUR',\n",
              "       'ANG', 'HAP', 'NEU', 'DIS', 'SAD', 'DIS', 'SUR', 'SUR', 'DIS',\n",
              "       'HAP', 'HAP', 'SAD', 'FEA', 'SAD', 'SAD', 'DIS', 'HAP', 'HAP',\n",
              "       'HAP', 'ANG', 'ANG', 'SUR', 'SUR', 'SUR', 'SAD', 'SAD', 'ANG',\n",
              "       'HAP', 'NEU', 'DIS', 'NEU', 'SAD', 'NEU', 'NEU', 'SAD', 'FEA',\n",
              "       'SUR', 'DIS', 'HAP', 'DIS', 'ANG', 'FEA', 'FEA', 'FEA', 'SUR',\n",
              "       'HAP', 'HAP', 'FEA', 'ANG', 'DIS', 'SUR', 'FEA', 'SUR', 'ANG',\n",
              "       'SAD', 'NEU', 'DIS', 'FEA', 'NEU', 'ANG', 'NEU', 'FEA'],\n",
              "      dtype='<U3')"
            ]
          },
          "metadata": {},
          "execution_count": 10
        }
      ]
    },
    {
      "cell_type": "code",
      "source": [
        "y_pred.shape"
      ],
      "metadata": {
        "colab": {
          "base_uri": "https://localhost:8080/"
        },
        "id": "w2wPay6kIBu9",
        "outputId": "75d278cc-26ca-4a9b-8b22-4a8bb62c68c8"
      },
      "execution_count": null,
      "outputs": [
        {
          "output_type": "execute_result",
          "data": {
            "text/plain": [
              "(269, 7)"
            ]
          },
          "metadata": {},
          "execution_count": 12
        }
      ]
    },
    {
      "cell_type": "code",
      "source": [
        "y_test.shape"
      ],
      "metadata": {
        "colab": {
          "base_uri": "https://localhost:8080/"
        },
        "id": "giGqulxDIDTV",
        "outputId": "64accf32-7d28-44a2-990e-dbd5a1143ca8"
      },
      "execution_count": null,
      "outputs": [
        {
          "output_type": "execute_result",
          "data": {
            "text/plain": [
              "(269,)"
            ]
          },
          "metadata": {},
          "execution_count": 13
        }
      ]
    },
    {
      "cell_type": "code",
      "source": [
        "\n",
        "y_classes = y_pred.argmax(axis=-1)\n",
        "y_classes.shape"
      ],
      "metadata": {
        "colab": {
          "base_uri": "https://localhost:8080/"
        },
        "id": "Eh4Oe6fdIKZ4",
        "outputId": "044c194f-3af5-4709-da85-83519221a553"
      },
      "execution_count": null,
      "outputs": [
        {
          "output_type": "execute_result",
          "data": {
            "text/plain": [
              "(269,)"
            ]
          },
          "metadata": {},
          "execution_count": 15
        }
      ]
    },
    {
      "cell_type": "code",
      "source": [
        "my_dict={0:'NEU',1:'HAP',2:'SAD',3:'ANG',4:'FEA',5:'DIS',6:'SUR'}\n",
        "b=np.vectorize(my_dict.get)(y_classes)\n",
        "b"
      ],
      "metadata": {
        "colab": {
          "base_uri": "https://localhost:8080/"
        },
        "id": "aa79NQaUIThn",
        "outputId": "7a40b9ca-bd14-406d-a11f-255a030c1b5b"
      },
      "execution_count": null,
      "outputs": [
        {
          "output_type": "execute_result",
          "data": {
            "text/plain": [
              "array(['NEU', 'SAD', 'NEU', 'DIS', 'HAP', 'ANG', 'DIS', 'ANG', 'ANG',\n",
              "       'ANG', 'DIS', 'ANG', 'FEA', 'FEA', 'SUR', 'FEA', 'ANG', 'ANG',\n",
              "       'ANG', 'ANG', 'HAP', 'HAP', 'HAP', 'ANG', 'FEA', 'NEU', 'HAP',\n",
              "       'ANG', 'FEA', 'ANG', 'ANG', 'NEU', 'SUR', 'ANG', 'NEU', 'HAP',\n",
              "       'DIS', 'NEU', 'ANG', 'HAP', 'NEU', 'HAP', 'HAP', 'ANG', 'ANG',\n",
              "       'FEA', 'ANG', 'ANG', 'FEA', 'DIS', 'SAD', 'NEU', 'SUR', 'ANG',\n",
              "       'ANG', 'ANG', 'HAP', 'ANG', 'DIS', 'ANG', 'ANG', 'FEA', 'NEU',\n",
              "       'ANG', 'SAD', 'ANG', 'ANG', 'ANG', 'SUR', 'NEU', 'FEA', 'ANG',\n",
              "       'NEU', 'ANG', 'FEA', 'HAP', 'SAD', 'ANG', 'HAP', 'SUR', 'SUR',\n",
              "       'ANG', 'ANG', 'ANG', 'ANG', 'FEA', 'NEU', 'ANG', 'ANG', 'HAP',\n",
              "       'HAP', 'ANG', 'ANG', 'FEA', 'DIS', 'NEU', 'SUR', 'NEU', 'ANG',\n",
              "       'SUR', 'ANG', 'ANG', 'ANG', 'ANG', 'NEU', 'HAP', 'ANG', 'NEU',\n",
              "       'HAP', 'SAD', 'NEU', 'ANG', 'ANG', 'FEA', 'ANG', 'NEU', 'ANG',\n",
              "       'ANG', 'ANG', 'NEU', 'SUR', 'ANG', 'ANG', 'HAP', 'NEU', 'HAP',\n",
              "       'ANG', 'FEA', 'FEA', 'FEA', 'HAP', 'SAD', 'FEA', 'DIS', 'FEA',\n",
              "       'ANG', 'NEU', 'FEA', 'FEA', 'SAD', 'FEA', 'ANG', 'FEA', 'FEA',\n",
              "       'NEU', 'FEA', 'FEA', 'HAP', 'ANG', 'SAD', 'HAP', 'ANG', 'ANG',\n",
              "       'HAP', 'FEA', 'HAP', 'FEA', 'ANG', 'NEU', 'HAP', 'DIS', 'NEU',\n",
              "       'ANG', 'ANG', 'FEA', 'ANG', 'SUR', 'FEA', 'NEU', 'ANG', 'NEU',\n",
              "       'HAP', 'ANG', 'NEU', 'HAP', 'NEU', 'SAD', 'HAP', 'ANG', 'ANG',\n",
              "       'ANG', 'ANG', 'NEU', 'NEU', 'ANG', 'ANG', 'ANG', 'ANG', 'NEU',\n",
              "       'HAP', 'ANG', 'NEU', 'FEA', 'HAP', 'FEA', 'SAD', 'FEA', 'DIS',\n",
              "       'NEU', 'ANG', 'SAD', 'NEU', 'HAP', 'ANG', 'SUR', 'FEA', 'SAD',\n",
              "       'NEU', 'ANG', 'FEA', 'HAP', 'DIS', 'HAP', 'SUR', 'SUR', 'HAP',\n",
              "       'ANG', 'ANG', 'DIS', 'ANG', 'FEA', 'DIS', 'HAP', 'ANG', 'ANG',\n",
              "       'ANG', 'NEU', 'NEU', 'ANG', 'ANG', 'SUR', 'DIS', 'ANG', 'NEU',\n",
              "       'ANG', 'FEA', 'HAP', 'FEA', 'DIS', 'FEA', 'FEA', 'DIS', 'SAD',\n",
              "       'SUR', 'HAP', 'ANG', 'HAP', 'NEU', 'HAP', 'SAD', 'ANG', 'ANG',\n",
              "       'ANG', 'ANG', 'SAD', 'NEU', 'HAP', 'HAP', 'ANG', 'SUR', 'NEU',\n",
              "       'FEA', 'FEA', 'HAP', 'SAD', 'FEA', 'NEU', 'FEA', 'ANG'],\n",
              "      dtype='<U3')"
            ]
          },
          "metadata": {},
          "execution_count": 16
        }
      ]
    },
    {
      "cell_type": "code",
      "source": [
        "from sklearn.metrics import plot_confusion_matrix\n",
        "matrix_confusion = plot_confusion_matrix(y_test,b,labels=np.unique(b),display_labels=np.unique(b))\n",
        "sns.heatmap(matrix_confusion, square=True, annot=True, cmap='Blues', fmt='d')"
      ],
      "metadata": {
        "colab": {
          "base_uri": "https://localhost:8080/",
          "height": 286
        },
        "id": "vRaHg0I3I5Px",
        "outputId": "6da9d362-1826-4654-ff3a-b28f2d3233be"
      },
      "execution_count": null,
      "outputs": [
        {
          "output_type": "execute_result",
          "data": {
            "text/plain": [
              "<matplotlib.axes._subplots.AxesSubplot at 0x7fb092c0e1d0>"
            ]
          },
          "metadata": {},
          "execution_count": 20
        },
        {
          "output_type": "display_data",
          "data": {
            "text/plain": [
              "<Figure size 432x288 with 2 Axes>"
            ],
            "image/png": "[encoded data removed]"
          },
          "metadata": {
            "needs_background": "light"
          }
        }
      ]
    },
    {
      "cell_type": "code",
      "source": [
        "np.unique(y_test)"
      ],
      "metadata": {
        "colab": {
          "base_uri": "https://localhost:8080/"
        },
        "id": "x0WDaSd2JHiD",
        "outputId": "7080251f-55d2-472c-cbb9-e6cefb2e53bb"
      },
      "execution_count": null,
      "outputs": [
        {
          "output_type": "execute_result",
          "data": {
            "text/plain": [
              "array(['ANG', 'DIS', 'FEA', 'HAP', 'NEU', 'SAD', 'SUR'], dtype='<U3')"
            ]
          },
          "metadata": {},
          "execution_count": 19
        }
      ]
    },
    {
      "cell_type": "code",
      "source": [
        ""
      ],
      "metadata": {
        "id": "aXTDljseJmrO"
      },
      "execution_count": null,
      "outputs": []
    }
  ],
  "metadata": {
    "accelerator": "GPU",
    "colab": {
      "name": "Unaugmented_model.ipynb",
      "provenance": [],
      "collapsed_sections": [],
      "include_colab_link": true
    },
    "kernelspec": {
      "display_name": "Python 3",
      "name": "python3"
    },
    "language_info": {
      "name": "python"
    }
  },
  "nbformat": 4,
  "nbformat_minor": 0
}